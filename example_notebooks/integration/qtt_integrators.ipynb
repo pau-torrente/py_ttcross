{
 "cells": [
  {
   "cell_type": "code",
   "execution_count": 2,
   "metadata": {},
   "outputs": [],
   "source": [
    "from py_ttcross.quantic_tt_cross.integrators import greedy_qtt_cross_integrator, ttrc_qtt_integrator\n",
    "import numpy as np\n",
    "from ncon import ncon"
   ]
  },
  {
   "cell_type": "code",
   "execution_count": 3,
   "metadata": {},
   "outputs": [],
   "source": [
    "# We showcase the integrators with th C_n Ising intgeral shown in https://www.davidhbailey.com/dhbpapers/ising.pdf\n",
    "\n",
    "\n",
    "def test_function(x: np.ndarray) -> np.float64:\n",
    "    t1 = 0\n",
    "    for k in range(x.shape[0]):\n",
    "        t1 += np.prod(x[: k + 1])\n",
    "\n",
    "    t2 = 0\n",
    "    for k in range(x.shape[0]):\n",
    "        t2 += np.prod(x[k:])\n",
    "\n",
    "    return 2.0 / ((1.0 + t1) * (1.0 + t2))"
   ]
  },
  {
   "cell_type": "markdown",
   "metadata": {},
   "source": [
    "## TTRC algorithm for the qtt-cross approximation"
   ]
  },
  {
   "cell_type": "code",
   "execution_count": 6,
   "metadata": {},
   "outputs": [
    {
     "name": "stdout",
     "output_type": "stream",
     "text": [
      "Function not compiled with numba. Using non-compiled version.\n",
      "Initialization done after time: 0.04626750946044922 seconds and 1 tries.\n",
      "Sweep 1\n",
      "Sweep 2\n",
      "Sweep 3\n",
      "Sweep 4\n"
     ]
    },
    {
     "data": {
      "text/plain": [
       "0.6354236700219688"
      ]
     },
     "execution_count": 6,
     "metadata": {},
     "output_type": "execute_result"
    }
   ],
   "source": [
    "integrator = ttrc_qtt_integrator(\n",
    "    func=test_function,\n",
    "    num_variables=8,\n",
    "    intervals=np.array([[0, 1] for _ in range(8)]),\n",
    "    d=4,\n",
    "    sweeps=4,\n",
    "    initial_bond_guess=2,\n",
    "    max_bond=12,\n",
    "    truncation_tol=0,\n",
    "    maxvol_tol=1e-8,\n",
    ")\n",
    "\n",
    "integrator.integrate()"
   ]
  },
  {
   "cell_type": "code",
   "execution_count": 7,
   "metadata": {},
   "outputs": [
    {
     "data": {
      "text/plain": [
       "array([ 2,  4,  8, 12, 12, 12, 12, 12, 12, 12, 12, 12, 12, 12, 12, 12, 12,\n",
       "       12, 12, 12, 12, 12, 12, 12, 12, 12, 12, 12,  8,  4,  2])"
      ]
     },
     "execution_count": 7,
     "metadata": {},
     "output_type": "execute_result"
    }
   ],
   "source": [
    "integrator.interpolator.bonds"
   ]
  },
  {
   "cell_type": "markdown",
   "metadata": {},
   "source": [
    "## Greedy-cross algorithm for the qtt-cross approximation"
   ]
  },
  {
   "cell_type": "code",
   "execution_count": 4,
   "metadata": {},
   "outputs": [
    {
     "name": "stdout",
     "output_type": "stream",
     "text": [
      "Function not compiled with numba. Using non-compiled version.\n",
      "Initialization succesfully done after time: 0.007787466049194336 seconds and 1 tries.\n",
      "Sweep 1\n",
      "Sweep 2\n",
      "Sweep 3\n",
      "Sweep 4\n",
      "Sweep 5\n",
      "Sweep 6\n",
      "Sweep 7\n",
      "Sweep 8\n"
     ]
    },
    {
     "data": {
      "text/plain": [
       "0.6778600170678429"
      ]
     },
     "execution_count": 4,
     "metadata": {},
     "output_type": "execute_result"
    }
   ],
   "source": [
    "integrator = greedy_qtt_cross_integrator(\n",
    "    func=test_function,\n",
    "    num_variables=8,\n",
    "    intervals=np.array([[0, 1] for _ in range(8)]),\n",
    "    d=4,\n",
    "    sweeps=8,\n",
    "    max_bond=17,\n",
    "    pivot_finder_tol=1e-8,\n",
    "    pivot_initialization=\"first_n\",\n",
    ")\n",
    "\n",
    "integrator.integrate()"
   ]
  },
  {
   "cell_type": "code",
   "execution_count": 5,
   "metadata": {},
   "outputs": [
    {
     "data": {
      "text/plain": [
       "array([ 2,  4,  7,  8, 15, 17, 16, 10, 15, 17, 12,  8, 15, 17, 16, 12, 15,\n",
       "       17, 16, 11, 15, 16, 17, 12, 16, 17, 14,  8,  8,  4,  2])"
      ]
     },
     "execution_count": 5,
     "metadata": {},
     "output_type": "execute_result"
    }
   ],
   "source": [
    "integrator.interpolator.bonds"
   ]
  }
 ],
 "metadata": {
  "kernelspec": {
   "display_name": "tfg",
   "language": "python",
   "name": "python3"
  },
  "language_info": {
   "codemirror_mode": {
    "name": "ipython",
    "version": 3
   },
   "file_extension": ".py",
   "mimetype": "text/x-python",
   "name": "python",
   "nbconvert_exporter": "python",
   "pygments_lexer": "ipython3",
   "version": "3.12.2"
  }
 },
 "nbformat": 4,
 "nbformat_minor": 2
}
