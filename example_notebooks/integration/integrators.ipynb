{
 "cells": [
  {
   "cell_type": "code",
   "execution_count": 3,
   "metadata": {},
   "outputs": [],
   "source": [
    "from src.regular_tt_cross.integrators import (\n",
    "    ttrc_integrator,\n",
    "    greedy_cross_integrator,\n",
    "    tracked_greedycross_integrator,\n",
    "    tracked_ttrc_integrator,\n",
    ")\n",
    "\n",
    "import numba as nb\n",
    "import matplotlib.pyplot as plt\n",
    "import numpy as np\n",
    "from src.utils.functions import *"
   ]
  },
  {
   "cell_type": "code",
   "execution_count": 4,
   "metadata": {},
   "outputs": [],
   "source": [
    "# Some example functions which can be compiled with numba (also found in the utils.functions module)\n",
    "\n",
    "\n",
    "def test_function1(x: np.ndarray) -> np.ndarray:\n",
    "    return np.log(np.prod(x))\n",
    "\n",
    "\n",
    "def test_function2(x: np.ndarray) -> float:\n",
    "    return np.sin(sum(x)) * np.prod(x * np.exp(-x)) * (3 * np.linalg.norm(x) + 1 + x[0])\n",
    "\n",
    "\n",
    "def test_function3(x: np.ndarray) -> float:\n",
    "    return np.sin(sum(x)) * np.prod(np.exp(-x))\n",
    "\n",
    "\n",
    "def test_function4(x: np.ndarray) -> float:\n",
    "    return 1 / (1 + np.sum(x))\n",
    "\n",
    "\n",
    "def test_function5(x: np.ndarray) -> np.ndarray:\n",
    "    return np.prod(np.sin(x) / 2)"
   ]
  },
  {
   "cell_type": "code",
   "execution_count": 12,
   "metadata": {},
   "outputs": [],
   "source": [
    "# We showcase the integrators with th C_n Ising intgeral shown in https://www.davidhbailey.com/dhbpapers/ising.pdf\n",
    "\n",
    "\n",
    "def test_function(x: np.ndarray) -> np.float64:\n",
    "    t1 = 0\n",
    "    for k in range(x.shape[0]):\n",
    "        t1 += np.prod(x[: k + 1])\n",
    "\n",
    "    t2 = 0\n",
    "    for k in range(x.shape[0]):\n",
    "        t2 += np.prod(x[k:])\n",
    "\n",
    "    return 2.0 / ((1.0 + t1) * (1.0 + t2))"
   ]
  },
  {
   "cell_type": "markdown",
   "metadata": {},
   "source": [
    "## TTRC algorithm (both in its regular form and the tracked one)"
   ]
  },
  {
   "cell_type": "code",
   "execution_count": 15,
   "metadata": {},
   "outputs": [
    {
     "name": "stdout",
     "output_type": "stream",
     "text": [
      "Function successfully compiled with numba.\n",
      "Initialization done after time: 0.021109580993652344 seconds and 1 tries.\n",
      "Sweep 1\n",
      "Sweep 2\n",
      "Sweep 3\n",
      "Sweep 4\n"
     ]
    },
    {
     "data": {
      "text/plain": [
       "0.6330297042045279"
      ]
     },
     "execution_count": 15,
     "metadata": {},
     "output_type": "execute_result"
    }
   ],
   "source": [
    "integrator = tracked_ttrc_integrator(\n",
    "    func=test_function,\n",
    "    num_variables=8,\n",
    "    intervals=np.array([[0, 1] for _ in range(8)]),\n",
    "    points_per_variable=10,\n",
    "    sweeps=4,\n",
    "    initial_bond_guess=2,\n",
    "    max_bond=8,\n",
    "    quadrature=\"Gauss\",\n",
    "    truncation_tol=0,\n",
    "    maxvol_tol=1e-8,\n",
    ")\n",
    "integrator.integrate()"
   ]
  },
  {
   "cell_type": "code",
   "execution_count": 16,
   "metadata": {},
   "outputs": [
    {
     "data": {
      "text/plain": [
       "[[42600, 0.6331418053922471],\n",
       " [109800, 0.6330711054862881],\n",
       " [177000, 0.6331248087006183],\n",
       " [244200, 0.6330297042045279]]"
      ]
     },
     "execution_count": 16,
     "metadata": {},
     "output_type": "execute_result"
    }
   ],
   "source": [
    "integrator.evolution"
   ]
  },
  {
   "cell_type": "code",
   "execution_count": 17,
   "metadata": {},
   "outputs": [
    {
     "data": {
      "text/plain": [
       "array([8, 8, 8, 8, 8, 8, 8])"
      ]
     },
     "execution_count": 17,
     "metadata": {},
     "output_type": "execute_result"
    }
   ],
   "source": [
    "integrator.bonds"
   ]
  },
  {
   "cell_type": "code",
   "execution_count": 18,
   "metadata": {},
   "outputs": [
    {
     "name": "stdout",
     "output_type": "stream",
     "text": [
      "Function successfully compiled with numba.\n",
      "Initialization done after time: 0.016794443130493164 seconds and 1 tries.\n",
      "Sweep 1\n",
      "Sweep 2\n",
      "Sweep 3\n",
      "Sweep 4\n"
     ]
    },
    {
     "data": {
      "text/plain": [
       "0.6330297042045279"
      ]
     },
     "execution_count": 18,
     "metadata": {},
     "output_type": "execute_result"
    }
   ],
   "source": [
    "integrator2 = ttrc_integrator(\n",
    "    func=test_function,\n",
    "    num_variables=8,\n",
    "    intervals=np.array([[0, 1] for _ in range(8)]),\n",
    "    points_per_variable=10,\n",
    "    sweeps=4,\n",
    "    initial_bond_guess=2,\n",
    "    max_bond=8,\n",
    "    quadrature=\"Gauss\",\n",
    "    truncation_tol=0,\n",
    "    maxvol_tol=1e-8,\n",
    ")\n",
    "integrator2.integrate()"
   ]
  },
  {
   "cell_type": "code",
   "execution_count": 19,
   "metadata": {},
   "outputs": [
    {
     "data": {
      "text/plain": [
       "244200"
      ]
     },
     "execution_count": 19,
     "metadata": {},
     "output_type": "execute_result"
    }
   ],
   "source": [
    "integrator2.interpolator.func_calls"
   ]
  },
  {
   "cell_type": "markdown",
   "metadata": {},
   "source": [
    "## Greedy-cross algorithm (both in its regular form and tracked version)"
   ]
  },
  {
   "cell_type": "code",
   "execution_count": 21,
   "metadata": {},
   "outputs": [
    {
     "name": "stdout",
     "output_type": "stream",
     "text": [
      "Function successfully compiled with numba.\n",
      "Initialization succesfully done after time: 0.0010654926300048828 seconds and 1 tries.\n",
      "Sweep 1\n",
      "Sweep 2\n",
      "Sweep 3\n",
      "Sweep 4\n",
      "Sweep 5\n"
     ]
    },
    {
     "data": {
      "text/plain": [
       "0.6330801536693172"
      ]
     },
     "execution_count": 21,
     "metadata": {},
     "output_type": "execute_result"
    }
   ],
   "source": [
    "integrator3 = tracked_greedycross_integrator(\n",
    "    func=test_function,\n",
    "    num_variables=8,\n",
    "    intervals=np.array([[0, 1] for _ in range(8)]),\n",
    "    points_per_variable=10,\n",
    "    sweeps=5,\n",
    "    max_bond=10,\n",
    "    quadrature=\"Gauss\",\n",
    "    pivot_finder_tol=1e-8,\n",
    ")\n",
    "\n",
    "integrator3.integrate()"
   ]
  },
  {
   "cell_type": "code",
   "execution_count": 24,
   "metadata": {},
   "outputs": [
    {
     "data": {
      "text/plain": [
       "Text(0.5, 1.0, 'Integral value vs function calls')"
      ]
     },
     "execution_count": 24,
     "metadata": {},
     "output_type": "execute_result"
    },
    {
     "data": {
      "image/png": "[encoded data removed]",
      "text/plain": [
       "<Figure size 640x480 with 1 Axes>"
      ]
     },
     "metadata": {},
     "output_type": "display_data"
    }
   ],
   "source": [
    "x = [val[0] for val in integrator3.evolution]\n",
    "y = [val[1] for val in integrator3.evolution]\n",
    "\n",
    "plt.plot(x, y)\n",
    "plt.xlabel(\"Function calls\")\n",
    "plt.ylabel(\"Integral value\")\n",
    "plt.title(\"Integral value vs function calls\")"
   ]
  },
  {
   "cell_type": "code",
   "execution_count": 25,
   "metadata": {},
   "outputs": [
    {
     "name": "stdout",
     "output_type": "stream",
     "text": [
      "Function successfully compiled with numba.\n",
      "Initialization succesfully done after time: 0.0015037059783935547 seconds and 1 tries.\n",
      "Sweep 1\n",
      "Sweep 2\n",
      "Sweep 3\n",
      "Sweep 4\n",
      "Sweep 5\n"
     ]
    },
    {
     "data": {
      "text/plain": [
       "0.6331247597881215"
      ]
     },
     "execution_count": 25,
     "metadata": {},
     "output_type": "execute_result"
    }
   ],
   "source": [
    "# The non tracked version of the greedy cross is much faster\n",
    "\n",
    "integrator2 = greedy_cross_integrator(\n",
    "    func=test_function,\n",
    "    num_variables=8,\n",
    "    intervals=np.array([[0, 1] for _ in range(8)]),\n",
    "    points_per_variable=10,\n",
    "    sweeps=5,\n",
    "    max_bond=10,\n",
    "    quadrature=\"Gauss\",\n",
    "    pivot_finder_tol=1e-8,\n",
    ")\n",
    "\n",
    "integrator2.integrate()"
   ]
  },
  {
   "cell_type": "code",
   "execution_count": 26,
   "metadata": {},
   "outputs": [
    {
     "data": {
      "text/plain": [
       "array([ 9, 10, 10, 10, 10, 10,  9])"
      ]
     },
     "execution_count": 26,
     "metadata": {},
     "output_type": "execute_result"
    }
   ],
   "source": [
    "integrator2.interpolator.bonds"
   ]
  },
  {
   "cell_type": "code",
   "execution_count": 27,
   "metadata": {},
   "outputs": [
    {
     "data": {
      "text/plain": [
       "174200"
      ]
     },
     "execution_count": 27,
     "metadata": {},
     "output_type": "execute_result"
    }
   ],
   "source": [
    "integrator2.interpolator.func_calls"
   ]
  }
 ],
 "metadata": {
  "kernelspec": {
   "display_name": "tfg",
   "language": "python",
   "name": "python3"
  },
  "language_info": {
   "codemirror_mode": {
    "name": "ipython",
    "version": 3
   },
   "file_extension": ".py",
   "mimetype": "text/x-python",
   "name": "python",
   "nbconvert_exporter": "python",
   "pygments_lexer": "ipython3",
   "version": "3.12.2"
  }
 },
 "nbformat": 4,
 "nbformat_minor": 2
}
