{
 "cells": [
  {
   "cell_type": "code",
   "execution_count": 1,
   "metadata": {},
   "outputs": [],
   "source": [
    "import sys\n",
    "\n",
    "sys.path.append(\"/home/ptbadia/code/tfg/tfg_ttcross\")"
   ]
  },
  {
   "cell_type": "code",
   "execution_count": 2,
   "metadata": {},
   "outputs": [],
   "source": [
    "from tt_cross.src.regular_tt_cross.integrators import (\n",
    "    ttrc_integrator,\n",
    "    greedy_cross_integrator,\n",
    "    tracked_greedycross_integrator,\n",
    "    tracked_ttrc_integrator,\n",
    ")\n",
    "import matplotlib.pyplot as plt\n",
    "import numpy as np\n",
    "from tt_cross.src.utils.functions import *"
   ]
  },
  {
   "cell_type": "code",
   "execution_count": 3,
   "metadata": {},
   "outputs": [],
   "source": [
    "def test_function(x: np.ndarray) -> np.ndarray:\n",
    "    return np.log(np.prod(x))\n",
    "\n",
    "\n",
    "def test_function(x: np.ndarray) -> float:\n",
    "    return np.sin(sum(x)) * np.prod(x * np.exp(-x)) * (3 * np.linalg.norm(x) + 1 + x[0])\n",
    "\n",
    "\n",
    "def test_function(x: np.ndarray) -> float:\n",
    "    return np.sin(sum(x)) * np.prod(np.exp(-x))\n",
    "\n",
    "\n",
    "def test_function(x: np.ndarray) -> float:\n",
    "    return 1 / (1 + np.sum(x))\n",
    "\n",
    "\n",
    "def test_function2(x: np.ndarray) -> np.ndarray:\n",
    "    return np.prod(np.sin(x) / 2)"
   ]
  },
  {
   "cell_type": "code",
   "execution_count": 4,
   "metadata": {},
   "outputs": [],
   "source": [
    "def test_function(x: np.ndarray) -> np.ndarray:\n",
    "    return 2 / (\n",
    "        (1 + np.sum([np.prod(x[: k + 1]) for k in range(len(x))]))\n",
    "        * (1 + np.sum([np.prod(x[k:]) for k in range(len(x))]))\n",
    "    )"
   ]
  },
  {
   "cell_type": "code",
   "execution_count": 5,
   "metadata": {},
   "outputs": [
    {
     "name": "stdout",
     "output_type": "stream",
     "text": [
      "Initialization done after time: 0.03792238235473633 seconds and 1 tries.\n",
      "Sweep 1\n",
      "Sweep 2\n",
      "Sweep 3\n",
      "Sweep 4\n",
      "Sweep 5\n"
     ]
    },
    {
     "data": {
      "text/plain": [
       "0.6331567692402931"
      ]
     },
     "execution_count": 5,
     "metadata": {},
     "output_type": "execute_result"
    }
   ],
   "source": [
    "integrator = tracked_ttrc_integrator(\n",
    "    func=test_function,\n",
    "    num_variables=8,\n",
    "    intervals=np.array([[0, 1] for _ in range(8)]),\n",
    "    points_per_variable=20,\n",
    "    sweeps=5,\n",
    "    initial_bond_guess=2,\n",
    "    max_bond=16,\n",
    "    quadrature=\"Gauss\",\n",
    "    truncation_tol=1e-8,\n",
    "    maxvol_tol=1e-8,\n",
    ")\n",
    "integrator.integrate()"
   ]
  },
  {
   "cell_type": "code",
   "execution_count": 6,
   "metadata": {},
   "outputs": [
    {
     "data": {
      "text/plain": [
       "[[279200, 0.633133597409275],\n",
       " [914400, 0.6330054980784086],\n",
       " [1589200, 0.7228942001557169],\n",
       " [2214800, 0.6331439563640014],\n",
       " [2869200, 0.6331567692402931]]"
      ]
     },
     "execution_count": 6,
     "metadata": {},
     "output_type": "execute_result"
    }
   ],
   "source": [
    "integrator.evolution"
   ]
  },
  {
   "cell_type": "code",
   "execution_count": 6,
   "metadata": {},
   "outputs": [
    {
     "name": "stdout",
     "output_type": "stream",
     "text": [
      "(7, 1) (7, 5)\n",
      "(12, 2) (12, 4)\n",
      "(14, 3) (14, 3)\n",
      "(15, 4) (15, 2)\n",
      "(7, 5) (7, 1)\n"
     ]
    }
   ],
   "source": [
    "for k in range(5):\n",
    "    print(integrator.i[k + 1].shape, integrator.j[k].shape)"
   ]
  },
  {
   "cell_type": "code",
   "execution_count": 7,
   "metadata": {},
   "outputs": [
    {
     "name": "stdout",
     "output_type": "stream",
     "text": [
      "(7, 1) (8, 5)\n",
      "(12, 2) (13, 4)\n",
      "(14, 3) (14, 3)\n",
      "(15, 4) (15, 2)\n",
      "(7, 5) (7, 1)\n"
     ]
    }
   ],
   "source": [
    "for k in range(5):\n",
    "    print(integrator.non_truncated_i[k + 1].shape, integrator.non_truncated_j[k].shape)"
   ]
  },
  {
   "cell_type": "code",
   "execution_count": 29,
   "metadata": {},
   "outputs": [
    {
     "name": "stdout",
     "output_type": "stream",
     "text": [
      "(1, 1)\n",
      "(4, 1)\n",
      "(5, 2)\n",
      "(5, 3)\n",
      "(6, 4)\n",
      "(8, 5)\n",
      "(10, 6)\n",
      "(10, 7)\n",
      "(10, 8)\n",
      "(6, 9)\n"
     ]
    }
   ],
   "source": [
    "for i in integrator.i:\n",
    "    print(i.shape)"
   ]
  },
  {
   "cell_type": "code",
   "execution_count": 30,
   "metadata": {},
   "outputs": [
    {
     "name": "stdout",
     "output_type": "stream",
     "text": [
      "(5, 9)\n",
      "(6, 8)\n",
      "(7, 7)\n",
      "(7, 6)\n",
      "(7, 5)\n",
      "(7, 4)\n",
      "(10, 3)\n",
      "(10, 2)\n",
      "(6, 1)\n",
      "(1, 1)\n"
     ]
    }
   ],
   "source": [
    "for i in integrator.j:\n",
    "    print(i.shape)"
   ]
  },
  {
   "cell_type": "code",
   "execution_count": 6,
   "metadata": {},
   "outputs": [
    {
     "data": {
      "text/plain": [
       "dict_items([(155600, -1.0058278129172035e-18), (245200, -1.00582781291716e-18), (334800, -1.00582781291716e-18), (424400, -1.00582781291716e-18), (514000, -1.00582781291716e-18), (603600, -1.00582781291716e-18), (693200, -1.00582781291716e-18), (782800, -1.00582781291716e-18), (872400, -1.00582781291716e-18), (962000, -1.00582781291716e-18)])"
      ]
     },
     "execution_count": 6,
     "metadata": {},
     "output_type": "execute_result"
    }
   ],
   "source": [
    "import matplotlib.pyplot as plt\n",
    "\n",
    "integrator.evolution_dict.items()"
   ]
  },
  {
   "cell_type": "code",
   "execution_count": 18,
   "metadata": {},
   "outputs": [
    {
     "data": {
      "text/plain": [
       "array([2, 2, 2, 2, 2, 2, 2, 2, 2, 2, 2, 2, 2, 2, 2, 2, 2, 2, 2, 2, 2, 2,\n",
       "       2, 2, 2, 2, 2, 2, 2])"
      ]
     },
     "execution_count": 18,
     "metadata": {},
     "output_type": "execute_result"
    }
   ],
   "source": [
    "integrator.interpolator.bonds"
   ]
  },
  {
   "cell_type": "code",
   "execution_count": 5,
   "metadata": {},
   "outputs": [
    {
     "name": "stdout",
     "output_type": "stream",
     "text": [
      "Initialization done after time: 0.08924579620361328 seconds and 1 tries.\n",
      "Sweep 1\n",
      "0.04377611335512049\n",
      "0.05379657083662619\n",
      "0.13387531454879967\n",
      "0.3394108237889981\n",
      "92.34498932572372\n",
      "317.8890673698318\n",
      "545.2391840497813\n",
      "1074.619453975836\n",
      "946.9150987981648\n",
      "2.0267824009235488e-13\n",
      "946.9150987981646\n",
      "2024.2164519374394\n",
      "482.3532074775375\n",
      "70.70326482905243\n",
      "16.84797420591325\n",
      "6.5266426137334435\n",
      "1.555242274501187\n",
      "0.2279671923038183\n",
      "Sweep 2\n",
      "1.768951411676119e-17\n",
      "0.22796719230381815\n",
      "1.5552422745011862\n",
      "6.526642613733442\n",
      "16.84797420591325\n",
      "70.70326482905246\n",
      "482.3532074775377\n",
      "2024.21645193744\n",
      "946.9150987981656\n",
      "2.4092132613464846e-13\n",
      "946.915098798165\n",
      "2024.2164519374405\n",
      "482.35320747753764\n",
      "70.70326482905243\n",
      "16.847974205913257\n",
      "6.526642613733441\n",
      "1.555242274501186\n",
      "0.227967192303818\n",
      "Sweep 3\n",
      "1.768951411676119e-17\n",
      "0.227967192303818\n",
      "1.555242274501186\n",
      "6.52664261373344\n",
      "16.847974205913253\n",
      "70.70326482905244\n",
      "482.35320747753764\n",
      "2024.21645193744\n",
      "946.9150987981657\n",
      "2.4092132613464846e-13\n",
      "946.915098798165\n",
      "2024.2164519374403\n",
      "482.35320747753747\n",
      "70.70326482905243\n",
      "16.847974205913257\n",
      "6.52664261373344\n",
      "1.5552422745011862\n",
      "0.2279671923038181\n",
      "Sweep 4\n",
      "4.595662261862383e-17\n",
      "0.2279671923038182\n",
      "1.555242274501187\n",
      "6.526642613733445\n",
      "16.847974205913264\n",
      "70.70326482905253\n",
      "482.3532074775381\n",
      "2024.2164519374414\n",
      "946.9150987981657\n",
      "3.834576677603694e-13\n",
      "946.9150987981664\n",
      "2024.2164519374417\n",
      "482.35320747753804\n",
      "70.70326482905251\n",
      "16.84797420591325\n",
      "6.526642613733442\n",
      "1.555242274501187\n",
      "0.22796719230381818\n",
      "Sweep 5\n",
      "1.768951411676119e-17\n",
      "0.22796719230381815\n",
      "1.555242274501186\n",
      "6.526642613733439\n",
      "16.847974205913246\n",
      "70.70326482905243\n",
      "482.35320747753764\n",
      "2024.2164519374405\n",
      "946.9150987981652\n",
      "2.6687188006664824e-13\n",
      "946.9150987981644\n",
      "2024.2164519374398\n",
      "482.3532074775374\n",
      "70.70326482905244\n",
      "16.847974205913257\n",
      "6.52664261373344\n",
      "1.5552422745011862\n",
      "0.2279671923038181\n",
      "Sweep 6\n",
      "4.595662261862383e-17\n",
      "0.2279671923038182\n",
      "1.555242274501187\n",
      "6.526642613733445\n",
      "16.847974205913264\n",
      "70.70326482905253\n",
      "482.35320747753804\n",
      "2024.216451937441\n",
      "946.9150987981657\n",
      "2.2663888753048552e-13\n",
      "946.9150987981654\n",
      "2024.2164519374417\n",
      "482.353207477538\n",
      "70.70326482905249\n",
      "16.84797420591325\n",
      "6.526642613733442\n",
      "1.555242274501187\n",
      "0.22796719230381818\n",
      "Sweep 7\n",
      "1.768951411676119e-17\n",
      "0.22796719230381815\n",
      "1.555242274501186\n",
      "6.526642613733439\n",
      "16.847974205913246\n",
      "70.70326482905243\n",
      "482.35320747753764\n",
      "2024.2164519374396\n",
      "946.9150987981652\n",
      "2.4096645348379697e-13\n",
      "946.9150987981642\n",
      "2024.2164519374396\n",
      "482.35320747753747\n",
      "70.70326482905244\n",
      "16.847974205913257\n",
      "6.52664261373344\n",
      "1.5552422745011862\n",
      "0.2279671923038181\n",
      "Sweep 8\n",
      "4.595662261862383e-17\n",
      "0.2279671923038182\n",
      "1.555242274501187\n",
      "6.526642613733445\n",
      "16.847974205913264\n",
      "70.70326482905253\n",
      "482.35320747753804\n",
      "2024.216451937441\n",
      "946.9150987981656\n",
      "2.2663888753048552e-13\n",
      "946.9150987981654\n",
      "2024.2164519374417\n",
      "482.353207477538\n",
      "70.70326482905249\n",
      "16.84797420591325\n",
      "6.526642613733442\n",
      "1.555242274501187\n",
      "0.22796719230381818\n",
      "Sweep 9\n",
      "1.768951411676119e-17\n",
      "0.22796719230381815\n",
      "1.555242274501186\n",
      "6.526642613733439\n",
      "16.847974205913246\n",
      "70.70326482905243\n",
      "482.35320747753764\n",
      "2024.2164519374396\n",
      "946.9150987981652\n",
      "2.4096645348379697e-13\n",
      "946.9150987981642\n",
      "2024.2164519374396\n",
      "482.35320747753747\n",
      "70.70326482905244\n",
      "16.847974205913257\n",
      "6.52664261373344\n",
      "1.5552422745011862\n",
      "0.2279671923038181\n",
      "Sweep 10\n",
      "4.595662261862383e-17\n",
      "0.2279671923038182\n",
      "1.555242274501187\n",
      "6.526642613733445\n",
      "16.847974205913264\n",
      "70.70326482905253\n",
      "482.35320747753804\n",
      "2024.216451937441\n",
      "946.9150987981656\n",
      "2.2663888753048552e-13\n",
      "946.9150987981654\n",
      "2024.2164519374417\n",
      "482.353207477538\n",
      "70.70326482905249\n",
      "16.84797420591325\n",
      "6.526642613733442\n",
      "1.555242274501187\n",
      "0.22796719230381818\n"
     ]
    },
    {
     "data": {
      "text/plain": [
       "0.9999999999999588"
      ]
     },
     "execution_count": 5,
     "metadata": {},
     "output_type": "execute_result"
    }
   ],
   "source": [
    "integrator = ttrc_integrator(\n",
    "    func=test_function2,\n",
    "    num_variables=10,\n",
    "    intervals=np.array([[0, np.pi] for _ in range(10)]),\n",
    "    points_per_variable=50,\n",
    "    sweeps=10,\n",
    "    initial_bond_guess=5,\n",
    "    max_bond=20,\n",
    "    quadrature=\"Gauss\",\n",
    ")\n",
    "integrator.integrate()"
   ]
  },
  {
   "cell_type": "code",
   "execution_count": 20,
   "metadata": {},
   "outputs": [
    {
     "data": {
      "text/plain": [
       "array([1, 1, 1, 1, 1, 1, 1, 1, 1])"
      ]
     },
     "execution_count": 20,
     "metadata": {},
     "output_type": "execute_result"
    }
   ],
   "source": [
    "integrator.interpolator.bonds"
   ]
  },
  {
   "cell_type": "code",
   "execution_count": 3,
   "metadata": {},
   "outputs": [
    {
     "name": "stdout",
     "output_type": "stream",
     "text": [
      "Initialization done after time: 0.009338855743408203 seconds and 1 tries.\n",
      "Sweep 1\n",
      "Sweep 2\n",
      "Sweep 3\n",
      "Sweep 4\n",
      "Sweep 5\n",
      "Sweep 6\n",
      "Sweep 7\n",
      "Sweep 8\n"
     ]
    },
    {
     "data": {
      "text/plain": [
       "-6.428747544568117e+111"
      ]
     },
     "execution_count": 3,
     "metadata": {},
     "output_type": "execute_result"
    }
   ],
   "source": [
    "integrator3 = ttrc_integrator(\n",
    "    func=gaussian,\n",
    "    num_variables=10,\n",
    "    intervals=np.array([[-5, 5] for _ in range(10)]),\n",
    "    points_per_variable=10,\n",
    "    sweeps=8,\n",
    "    initial_bond_guess=3,\n",
    "    max_bond=10,\n",
    "    quadrature=\"Trapezoidal\",\n",
    ")\n",
    "integrator3.integrate()"
   ]
  },
  {
   "cell_type": "code",
   "execution_count": 7,
   "metadata": {},
   "outputs": [
    {
     "name": "stdout",
     "output_type": "stream",
     "text": [
      "(1, 1)\n",
      "(4, 1)\n",
      "(7, 2)\n",
      "(10, 3)\n",
      "(10, 4)\n",
      "(10, 5)\n",
      "(10, 6)\n",
      "(10, 7)\n",
      "(10, 8)\n",
      "(10, 9)\n",
      "(9, 10)\n",
      "(10, 11)\n",
      "(10, 12)\n",
      "(10, 13)\n",
      "(10, 14)\n",
      "(10, 15)\n",
      "(9, 16)\n",
      "(8, 17)\n",
      "(7, 18)\n",
      "(4, 19)\n"
     ]
    }
   ],
   "source": [
    "for i in integrator3.interpolator.i:\n",
    "    print(i.shape)"
   ]
  },
  {
   "cell_type": "code",
   "execution_count": 22,
   "metadata": {},
   "outputs": [
    {
     "data": {
      "text/plain": [
       "95895600.61550897"
      ]
     },
     "execution_count": 22,
     "metadata": {},
     "output_type": "execute_result"
    }
   ],
   "source": [
    "(2 * np.pi) ** 10"
   ]
  },
  {
   "cell_type": "code",
   "execution_count": 7,
   "metadata": {},
   "outputs": [
    {
     "name": "stdout",
     "output_type": "stream",
     "text": [
      "Initialization done after time: 0.0011799335479736328 seconds and 1 tries.\n",
      "Sweep 1\n",
      "Sweep 2\n",
      "Sweep 3\n",
      "Sweep 4\n"
     ]
    },
    {
     "data": {
      "text/plain": [
       "0.6331445190438559"
      ]
     },
     "execution_count": 7,
     "metadata": {},
     "output_type": "execute_result"
    }
   ],
   "source": [
    "# In the presence of singularities, if pivot_finder_tol is too high, the integrator will select very similar\n",
    "# points next to the singularity, resulting in singular matrices and a failed integration.\n",
    "\n",
    "integrator2 = tracked_greedycross_integrator(\n",
    "    func=test_function,\n",
    "    num_variables=8,\n",
    "    intervals=np.array([[0, 1] for _ in range(8)]),\n",
    "    points_per_variable=20,\n",
    "    sweeps=4,\n",
    "    max_bond=15,\n",
    "    quadrature=\"Gauss\",\n",
    "    pivot_finder_tol=1e-6,\n",
    ")\n",
    "\n",
    "integrator2.integrate()"
   ]
  },
  {
   "cell_type": "code",
   "execution_count": 34,
   "metadata": {},
   "outputs": [
    {
     "data": {
      "text/plain": [
       "array([11, 15, 15, 15, 15, 14,  7])"
      ]
     },
     "execution_count": 34,
     "metadata": {},
     "output_type": "execute_result"
    }
   ],
   "source": [
    "integrator2.bonds"
   ]
  },
  {
   "cell_type": "code",
   "execution_count": 11,
   "metadata": {},
   "outputs": [
    {
     "name": "stdout",
     "output_type": "stream",
     "text": [
      "[[1.]]\n",
      "[[0.0]\n",
      " [1.0]\n",
      " [0.3103448275862069]\n",
      " [0.6551724137931034]]\n",
      "[[0.0 0.0]\n",
      " [1.0 0.41379310344827586]\n",
      " [0.0 0.3793103448275862]\n",
      " [1.0 1.0]]\n",
      "[[0.0 0.0 0.0]\n",
      " [1.0 0.41379310344827586 0.0]\n",
      " [0.0 0.0 0.3793103448275862]\n",
      " [1.0 1.0 1.0]\n",
      " [0.0 0.0 0.13793103448275862]]\n",
      "[[0.0 0.0 0.0 0.0]\n",
      " [1.0 0.41379310344827586 0.0 0.0]\n",
      " [0.0 0.0 0.0 0.3793103448275862]\n",
      " [1.0 1.0 1.0 1.0]\n",
      " [1.0 0.41379310344827586 0.0 1.0]]\n",
      "[[0.0 0.0 0.0 0.0 0.0]\n",
      " [1.0 0.41379310344827586 0.0 0.0 0.0]\n",
      " [0.0 0.0 0.0 0.0 0.3793103448275862]\n",
      " [1.0 1.0 1.0 1.0 1.0]\n",
      " [1.0 0.41379310344827586 0.0 0.0 1.0]]\n",
      "[[0.0 0.0 0.0 0.0 0.0 0.0]\n",
      " [1.0 0.41379310344827586 0.0 0.0 0.0 0.0]\n",
      " [0.0 0.0 0.0 0.0 0.0 0.3793103448275862]\n",
      " [1.0 1.0 1.0 1.0 1.0 1.0]\n",
      " [1.0 0.41379310344827586 0.0 0.0 0.0 1.0]]\n",
      "[[0.0 0.0 0.0 0.0 0.0 0.0 0.0]\n",
      " [1.0 0.41379310344827586 0.0 0.0 0.0 0.0 0.0]\n",
      " [0.0 0.0 0.0 0.0 0.0 0.0 0.3793103448275862]\n",
      " [1.0 1.0 1.0 1.0 1.0 1.0 1.0]\n",
      " [1.0 0.41379310344827586 0.0 0.0 0.0 0.0 1.0]]\n",
      "[[0.0 0.0 0.0 0.0 0.0 0.0 0.0 0.0]\n",
      " [1.0 0.41379310344827586 0.0 0.0 0.0 0.0 0.0 0.0]\n",
      " [0.0 0.0 0.0 0.0 0.0 0.0 0.0 0.41379310344827586]\n",
      " [1.0 1.0 1.0 1.0 1.0 1.0 1.0 0.6206896551724138]\n",
      " [1.0 0.41379310344827586 0.0 0.0 0.0 0.0 0.0 1.0]]\n",
      "[[0.0 0.0 0.0 0.0 0.0 0.0 0.0 0.0 0.0]\n",
      " [1.0 0.41379310344827586 0.0 0.0 0.0 0.0 0.0 0.0 1.0]\n",
      " [0.0 0.0 0.0 0.0 0.0 0.0 0.0 0.0 0.6551724137931034]\n",
      " [1.0 1.0 1.0 1.0 1.0 1.0 1.0 0.6206896551724138 1.0]]\n",
      "[[0. 0. 0. 0. 0. 0. 0. 0. 0. 0.]]\n"
     ]
    }
   ],
   "source": [
    "for i in integrator2.i:\n",
    "    print(i)"
   ]
  },
  {
   "cell_type": "code",
   "execution_count": 26,
   "metadata": {},
   "outputs": [
    {
     "data": {
      "text/plain": [
       "array([1, 1, 1, 1, 1, 1, 1, 1, 1, 1, 1, 1, 1, 1, 1, 1, 1, 1, 1, 1, 1, 1,\n",
       "       1, 1, 1, 1, 1, 1, 1])"
      ]
     },
     "execution_count": 26,
     "metadata": {},
     "output_type": "execute_result"
    }
   ],
   "source": [
    "integrator2.interpolator.bonds"
   ]
  },
  {
   "cell_type": "code",
   "execution_count": 27,
   "metadata": {},
   "outputs": [
    {
     "data": {
      "text/plain": [
       "{400: 0.1734877830521058,\n",
       " 1200: 0.16366103504160545,\n",
       " 2000: 0.1502779675391693,\n",
       " 2800: 0.20616162438197405,\n",
       " 3600: 0.15107876045022756,\n",
       " 4400: 0.06102370845480326,\n",
       " 5200: 0.03317247770594936,\n",
       " 6000: 0.01233820553274095,\n",
       " 6800: 0.028520753223377028,\n",
       " 7600: 0.028520753223377028,\n",
       " 9200: 0.028916388754062355,\n",
       " 11600: 0.030574417290189334,\n",
       " 14000: -2089308950789.7756,\n",
       " 16400: -1690964813782.1316,\n",
       " 18800: -1074114635654.792,\n",
       " 21200: -1014927317883.8499,\n",
       " 23600: 1.076008431741586e+26,\n",
       " 24800: 4.418670534814469e+25,\n",
       " 26000: 7.2748132362465785e+25,\n",
       " 30800: 3.4106724547389498e+25,\n",
       " 35600: -4.196348868854867e+25,\n",
       " 40400: -5.1917328132091846e+26,\n",
       " 45200: -9.862792712921169e+28,\n",
       " 50000: -2.534283706344681e+26,\n",
       " 54800: -1.814975499944701e+26,\n",
       " 58000: -1.9507369798631683e+26,\n",
       " 59600: -1.9129354439620253e+26,\n",
       " 61200: -3.309052987110329e+26,\n",
       " 67600: -1.1446561015462829e+25,\n",
       " 75600: -4.427159086566745e+38,\n",
       " 83600: -1.74994007394719e+39,\n",
       " 91600: 2.8809087918151395e+39,\n",
       " 99600: 2.919986106975414e+37,\n",
       " 107600: 1.1051626058932705e+38}"
      ]
     },
     "execution_count": 27,
     "metadata": {},
     "output_type": "execute_result"
    }
   ],
   "source": [
    "integrator2.evolution_dict"
   ]
  },
  {
   "cell_type": "code",
   "execution_count": 23,
   "metadata": {},
   "outputs": [
    {
     "name": "stdout",
     "output_type": "stream",
     "text": [
      "Initialization done after time: 0.0011169910430908203 seconds and 1 tries.\n",
      "Sweep 1\n"
     ]
    },
    {
     "data": {
      "text/plain": [
       "0.9999999999999014"
      ]
     },
     "execution_count": 23,
     "metadata": {},
     "output_type": "execute_result"
    }
   ],
   "source": [
    "integrator2 = greedy_cross_integrator(\n",
    "    func=test_function2,\n",
    "    num_variables=30,\n",
    "    intervals=np.array([[0, np.pi] for _ in range(30)]),\n",
    "    points_per_variable=30,\n",
    "    sweeps=10,\n",
    "    max_bond=10,\n",
    "    quadrature=\"Gauss\",\n",
    "    pivot_finder_tol=1e-12,\n",
    ")\n",
    "\n",
    "integrator2.integrate()"
   ]
  },
  {
   "cell_type": "code",
   "execution_count": 24,
   "metadata": {},
   "outputs": [
    {
     "data": {
      "text/plain": [
       "array([1, 1, 1, 1, 1, 1, 1, 1, 1, 1, 1, 1, 1, 1, 1, 1, 1, 1, 1, 1, 1, 1,\n",
       "       1, 1, 1, 1, 1, 1, 1])"
      ]
     },
     "execution_count": 24,
     "metadata": {},
     "output_type": "execute_result"
    }
   ],
   "source": [
    "integrator2.interpolator.bonds"
   ]
  },
  {
   "cell_type": "code",
   "execution_count": null,
   "metadata": {},
   "outputs": [],
   "source": []
  }
 ],
 "metadata": {
  "kernelspec": {
   "display_name": "tfg",
   "language": "python",
   "name": "python3"
  },
  "language_info": {
   "codemirror_mode": {
    "name": "ipython",
    "version": 3
   },
   "file_extension": ".py",
   "mimetype": "text/x-python",
   "name": "python",
   "nbconvert_exporter": "python",
   "pygments_lexer": "ipython3",
   "version": "3.12.2"
  }
 },
 "nbformat": 4,
 "nbformat_minor": 2
}
