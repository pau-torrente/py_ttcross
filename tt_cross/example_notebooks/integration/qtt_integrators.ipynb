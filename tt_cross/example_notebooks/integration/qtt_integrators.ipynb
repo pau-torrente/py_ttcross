{
 "cells": [
  {
   "cell_type": "code",
   "execution_count": 1,
   "metadata": {},
   "outputs": [],
   "source": [
    "import sys\n",
    "\n",
    "sys.path.append(\"/home/ptbadia/code/tfg/tfg_ttcross\")"
   ]
  },
  {
   "cell_type": "code",
   "execution_count": 2,
   "metadata": {},
   "outputs": [],
   "source": [
    "from tt_cross.src.quantic_tt_cross.integrators import greedy_qtt_cross_integrator, ttrc_qtt_integrator\n",
    "import numpy as np\n",
    "from ncon import ncon"
   ]
  },
  {
   "cell_type": "code",
   "execution_count": 5,
   "metadata": {},
   "outputs": [],
   "source": [
    "import numpy as np\n",
    "\n",
    "np.random.seed(0)\n",
    "\n",
    "# Generate a random matrix\n",
    "\n",
    "\n",
    "def test_function(x: np.ndarray) -> np.ndarray:\n",
    "    return 2 / (\n",
    "        (1 + np.sum([np.prod(x[: k + 1]) for k in range(len(x))]))\n",
    "        * (1 + np.sum([np.prod(x[k:]) for k in range(len(x))]))\n",
    "    )"
   ]
  },
  {
   "cell_type": "code",
   "execution_count": 118,
   "metadata": {},
   "outputs": [],
   "source": [
    "def test_function(x: np.ndarray) -> np.ndarray:\n",
    "    return np.prod(np.sin(x) / 2)\n",
    "\n",
    "\n",
    "def test_function(x: np.ndarray) -> float:\n",
    "    return 1 / (1 + np.sum(x))\n",
    "\n",
    "\n",
    "def test_function(x: np.ndarray) -> float:\n",
    "    return np.exp(-0.5 * x.T @ precision_matrix @ x)\n",
    "\n",
    "\n",
    "# def test_function(x: np.ndarray) -> float:\n",
    "#     return np.exp(-np.sum(np.tan(x)**2))"
   ]
  },
  {
   "cell_type": "code",
   "execution_count": 9,
   "metadata": {},
   "outputs": [
    {
     "name": "stdout",
     "output_type": "stream",
     "text": [
      "Initialization done after time: 0.02607583999633789 seconds and 1 tries.\n",
      "Sweep 1\n",
      "Sweep 2\n",
      "Sweep 3\n",
      "Sweep 4\n",
      "Sweep 5\n",
      "Sweep 6\n",
      "Sweep 7\n",
      "Sweep 8\n",
      "Sweep 9\n",
      "Sweep 10\n"
     ]
    },
    {
     "data": {
      "text/plain": [
       "65.48401287962137"
      ]
     },
     "execution_count": 9,
     "metadata": {},
     "output_type": "execute_result"
    }
   ],
   "source": [
    "integrator = greedy_qtt_cross_integrator(\n",
    "    func=test_function,\n",
    "    num_variables=10,\n",
    "    intervals=np.array([[0, 1] for _ in range(10)]),\n",
    "    d=10,\n",
    "    sweeps=10,\n",
    "    max_bond=20,\n",
    "    pivot_finder_tol=1e-8,\n",
    ")\n",
    "\n",
    "integrator.integrate()"
   ]
  },
  {
   "cell_type": "code",
   "execution_count": 84,
   "metadata": {},
   "outputs": [
    {
     "data": {
      "text/plain": [
       "array([ 2,  4,  7,  8, 12, 11, 12, 13, 12, 12,  8, 10, 11, 12, 15, 15, 17,\n",
       "       16, 12,  8, 12, 11,  9,  8,  7,  6,  5,  4,  2])"
      ]
     },
     "execution_count": 84,
     "metadata": {},
     "output_type": "execute_result"
    }
   ],
   "source": [
    "integrator.interpolator.bonds"
   ]
  },
  {
   "cell_type": "code",
   "execution_count": 121,
   "metadata": {},
   "outputs": [
    {
     "data": {
      "text/plain": [
       "36.132083238730075"
      ]
     },
     "execution_count": 121,
     "metadata": {},
     "output_type": "execute_result"
    }
   ],
   "source": [
    "np.sqrt(((2 * np.pi) ** 3) / np.linalg.det(precision_matrix))"
   ]
  },
  {
   "cell_type": "code",
   "execution_count": 16,
   "metadata": {},
   "outputs": [
    {
     "data": {
      "text/plain": [
       "array([2, 4, 5, 5, 4, 4, 5, 4, 2, 1, 2, 4, 5, 5, 4, 4, 5, 4, 2, 1, 2, 4,\n",
       "       5, 5, 4, 4, 5, 4, 2, 1, 2, 4, 5, 5, 4, 4, 5, 4, 2, 1, 2, 4, 5, 5,\n",
       "       4, 4, 5, 4, 2, 1, 2, 4, 5, 5, 4, 4, 5, 4, 2, 1, 2, 4, 5, 5, 4, 4,\n",
       "       5, 4, 2, 1, 2, 4, 5, 5, 4, 4, 5, 4, 2, 1, 2, 4, 5, 5, 4, 4, 5, 4,\n",
       "       2, 1, 2, 4, 5, 5, 4, 4, 5, 4, 2])"
      ]
     },
     "execution_count": 16,
     "metadata": {},
     "output_type": "execute_result"
    }
   ],
   "source": [
    "integrator.interpolator.bonds"
   ]
  },
  {
   "cell_type": "code",
   "execution_count": 7,
   "metadata": {},
   "outputs": [
    {
     "name": "stderr",
     "output_type": "stream",
     "text": [
      "/home/ptbadia/code/tfg/tfg_ttcross/tt_cross/src/regular_tt_cross/dmrg_cross.py:370: UserWarning: The initial bond guess is larger than the maximum grid size. Max bond gets initialized to the maximum of grid size instead of given initial_bond_guess.\n",
      "  warnings.warn(\n"
     ]
    },
    {
     "name": "stdout",
     "output_type": "stream",
     "text": [
      "Initialization done after time: 0.20508670806884766 seconds and 1 tries.\n",
      "Sweep 1\n",
      "Sweep 2\n",
      "Sweep 3\n",
      "Sweep 4\n",
      "Sweep 5\n",
      "Sweep 6\n",
      "Sweep 7\n",
      "Sweep 8\n",
      "Sweep 9\n",
      "Sweep 10\n"
     ]
    },
    {
     "ename": "ValueError",
     "evalue": "The left and right indexes must have the same dimension",
     "output_type": "error",
     "traceback": [
      "\u001b[0;31m---------------------------------------------------------------------------\u001b[0m",
      "\u001b[0;31mValueError\u001b[0m                                Traceback (most recent call last)",
      "Cell \u001b[0;32mIn[7], line 11\u001b[0m\n\u001b[1;32m      1\u001b[0m integrator2 \u001b[38;5;241m=\u001b[39m ttrc_qtt_integrator(\n\u001b[1;32m      2\u001b[0m     func\u001b[38;5;241m=\u001b[39mtest_function,\n\u001b[1;32m      3\u001b[0m     num_variables\u001b[38;5;241m=\u001b[39m\u001b[38;5;241m10\u001b[39m,\n\u001b[0;32m   (...)\u001b[0m\n\u001b[1;32m      8\u001b[0m     max_bond\u001b[38;5;241m=\u001b[39m\u001b[38;5;241m20\u001b[39m,\n\u001b[1;32m      9\u001b[0m )\n\u001b[0;32m---> 11\u001b[0m \u001b[43mintegrator2\u001b[49m\u001b[38;5;241;43m.\u001b[39;49m\u001b[43mintegrate\u001b[49m\u001b[43m(\u001b[49m\u001b[43m)\u001b[49m\n",
      "File \u001b[0;32m~/code/tfg/tfg_ttcross/tt_cross/src/quantic_tt_cross/integrators.py:67\u001b[0m, in \u001b[0;36mqtt_cross_integrator.integrate\u001b[0;34m(self)\u001b[0m\n\u001b[1;32m     65\u001b[0m \u001b[38;5;28;01mdef\u001b[39;00m \u001b[38;5;21mintegrate\u001b[39m(\u001b[38;5;28mself\u001b[39m) \u001b[38;5;241m-\u001b[39m\u001b[38;5;241m>\u001b[39m \u001b[38;5;28mcomplex\u001b[39m:\n\u001b[1;32m     66\u001b[0m     \u001b[38;5;28;01mif\u001b[39;00m \u001b[38;5;129;01mnot\u001b[39;00m \u001b[38;5;28mself\u001b[39m\u001b[38;5;241m.\u001b[39minterpolated:\n\u001b[0;32m---> 67\u001b[0m         tensor_train \u001b[38;5;241m=\u001b[39m \u001b[38;5;28;43mself\u001b[39;49m\u001b[38;5;241;43m.\u001b[39;49m\u001b[43m_interpolate\u001b[49m\u001b[43m(\u001b[49m\u001b[43m)\u001b[49m\n\u001b[1;32m     68\u001b[0m         \u001b[38;5;28mself\u001b[39m\u001b[38;5;241m.\u001b[39minterpolated \u001b[38;5;241m=\u001b[39m \u001b[38;5;28;01mTrue\u001b[39;00m\n\u001b[1;32m     70\u001b[0m     result \u001b[38;5;241m=\u001b[39m ncon(\n\u001b[1;32m     71\u001b[0m         [\u001b[38;5;28mself\u001b[39m\u001b[38;5;241m.\u001b[39mweights[\u001b[38;5;241m0\u001b[39m], tensor_train[\u001b[38;5;241m0\u001b[39m][\u001b[38;5;241m0\u001b[39m]],\n\u001b[1;32m     72\u001b[0m         [[\u001b[38;5;241m1\u001b[39m], [\u001b[38;5;241m1\u001b[39m, \u001b[38;5;241m-\u001b[39m\u001b[38;5;241m1\u001b[39m]],\n\u001b[1;32m     73\u001b[0m     )\n",
      "File \u001b[0;32m~/code/tfg/tfg_ttcross/tt_cross/src/quantic_tt_cross/integrators.py:135\u001b[0m, in \u001b[0;36mttrc_qtt_integrator._interpolate\u001b[0;34m(self)\u001b[0m\n\u001b[1;32m    122\u001b[0m \u001b[38;5;28;01mdef\u001b[39;00m \u001b[38;5;21m_interpolate\u001b[39m(\u001b[38;5;28mself\u001b[39m):\n\u001b[1;32m    123\u001b[0m     \u001b[38;5;28mself\u001b[39m\u001b[38;5;241m.\u001b[39minterpolator \u001b[38;5;241m=\u001b[39m ttrc(\n\u001b[1;32m    124\u001b[0m         func\u001b[38;5;241m=\u001b[39m\u001b[38;5;28mself\u001b[39m\u001b[38;5;241m.\u001b[39mfunc_from_binary,\n\u001b[1;32m    125\u001b[0m         num_variables\u001b[38;5;241m=\u001b[39m\u001b[38;5;28mself\u001b[39m\u001b[38;5;241m.\u001b[39md \u001b[38;5;241m*\u001b[39m \u001b[38;5;28mself\u001b[39m\u001b[38;5;241m.\u001b[39mnum_var,\n\u001b[0;32m   (...)\u001b[0m\n\u001b[1;32m    132\u001b[0m         is_f_complex\u001b[38;5;241m=\u001b[39m\u001b[38;5;28mself\u001b[39m\u001b[38;5;241m.\u001b[39mcomplex_f,\n\u001b[1;32m    133\u001b[0m     )\n\u001b[0;32m--> 135\u001b[0m     \u001b[38;5;28mself\u001b[39m\u001b[38;5;241m.\u001b[39minterpolation \u001b[38;5;241m=\u001b[39m \u001b[38;5;28;43mself\u001b[39;49m\u001b[38;5;241;43m.\u001b[39;49m\u001b[43minterpolator\u001b[49m\u001b[38;5;241;43m.\u001b[39;49m\u001b[43mrun\u001b[49m\u001b[43m(\u001b[49m\u001b[43m)\u001b[49m\n\u001b[1;32m    136\u001b[0m     \u001b[38;5;28;01mreturn\u001b[39;00m \u001b[38;5;28mself\u001b[39m\u001b[38;5;241m.\u001b[39minterpolation\n",
      "File \u001b[0;32m~/code/tfg/tfg_ttcross/tt_cross/src/regular_tt_cross/dmrg_cross.py:820\u001b[0m, in \u001b[0;36mttrc.run\u001b[0;34m(self)\u001b[0m\n\u001b[1;32m    818\u001b[0m \u001b[38;5;28;01mfor\u001b[39;00m site \u001b[38;5;129;01min\u001b[39;00m \u001b[38;5;28mrange\u001b[39m(\u001b[38;5;28mself\u001b[39m\u001b[38;5;241m.\u001b[39mnum_variables \u001b[38;5;241m-\u001b[39m \u001b[38;5;241m1\u001b[39m):\n\u001b[1;32m    819\u001b[0m     mps[\u001b[38;5;241m2\u001b[39m \u001b[38;5;241m*\u001b[39m site] \u001b[38;5;241m=\u001b[39m \u001b[38;5;28mself\u001b[39m\u001b[38;5;241m.\u001b[39mcompute_single_site_tensor(site)\n\u001b[0;32m--> 820\u001b[0m     mps[\u001b[38;5;241m2\u001b[39m \u001b[38;5;241m*\u001b[39m site \u001b[38;5;241m+\u001b[39m \u001b[38;5;241m1\u001b[39m] \u001b[38;5;241m=\u001b[39m \u001b[38;5;28;43mself\u001b[39;49m\u001b[38;5;241;43m.\u001b[39;49m\u001b[43mcompute_cross_blocks\u001b[49m\u001b[43m(\u001b[49m\u001b[43msite\u001b[49m\u001b[43m)\u001b[49m\n\u001b[1;32m    822\u001b[0m mps[\u001b[38;5;241m-\u001b[39m\u001b[38;5;241m1\u001b[39m] \u001b[38;5;241m=\u001b[39m \u001b[38;5;28mself\u001b[39m\u001b[38;5;241m.\u001b[39mcompute_single_site_tensor(\u001b[38;5;28mself\u001b[39m\u001b[38;5;241m.\u001b[39mnum_variables \u001b[38;5;241m-\u001b[39m \u001b[38;5;241m1\u001b[39m)\n\u001b[1;32m    823\u001b[0m \u001b[38;5;28mself\u001b[39m\u001b[38;5;241m.\u001b[39mtotal_time \u001b[38;5;241m=\u001b[39m time\u001b[38;5;241m.\u001b[39mtime() \u001b[38;5;241m-\u001b[39m \u001b[38;5;28mself\u001b[39m\u001b[38;5;241m.\u001b[39mtotal_time\n",
      "File \u001b[0;32m~/code/tfg/tfg_ttcross/tt_cross/src/regular_tt_cross/dmrg_cross.py:234\u001b[0m, in \u001b[0;36mtt_interpolator.compute_cross_blocks\u001b[0;34m(self, site)\u001b[0m\n\u001b[1;32m    218\u001b[0m \u001b[38;5;250m\u001b[39m\u001b[38;5;124;03m\"\"\"Method that using the index sets stored in the self.i and self.j variables compute the square cross block\u001b[39;00m\n\u001b[1;32m    219\u001b[0m \u001b[38;5;124;03mtensors that go in between the 3-leged ones in the tensor train to form the ttcross approximation. The\u001b[39;00m\n\u001b[1;32m    220\u001b[0m \u001b[38;5;124;03mtensors are computed as [A(I_{k}, J_{k})]^{-1}.\u001b[39;00m\n\u001b[0;32m   (...)\u001b[0m\n\u001b[1;32m    231\u001b[0m \u001b[38;5;124;03m    np.ndarray: The 2-legged tensor that is the inverse of the cross block tensor.\u001b[39;00m\n\u001b[1;32m    232\u001b[0m \u001b[38;5;124;03m\"\"\"\u001b[39;00m\n\u001b[1;32m    233\u001b[0m \u001b[38;5;28;01mif\u001b[39;00m \u001b[38;5;28mlen\u001b[39m(\u001b[38;5;28mself\u001b[39m\u001b[38;5;241m.\u001b[39mi[site \u001b[38;5;241m+\u001b[39m \u001b[38;5;241m1\u001b[39m]) \u001b[38;5;241m!=\u001b[39m \u001b[38;5;28mlen\u001b[39m(\u001b[38;5;28mself\u001b[39m\u001b[38;5;241m.\u001b[39mj[site]):\n\u001b[0;32m--> 234\u001b[0m     \u001b[38;5;28;01mraise\u001b[39;00m \u001b[38;5;167;01mValueError\u001b[39;00m(\u001b[38;5;124m\"\u001b[39m\u001b[38;5;124mThe left and right indexes must have the same dimension\u001b[39m\u001b[38;5;124m\"\u001b[39m)\n\u001b[1;32m    236\u001b[0m block \u001b[38;5;241m=\u001b[39m np\u001b[38;5;241m.\u001b[39mndarray((\u001b[38;5;28mlen\u001b[39m(\u001b[38;5;28mself\u001b[39m\u001b[38;5;241m.\u001b[39mi[site \u001b[38;5;241m+\u001b[39m \u001b[38;5;241m1\u001b[39m]), \u001b[38;5;28mlen\u001b[39m(\u001b[38;5;28mself\u001b[39m\u001b[38;5;241m.\u001b[39mj[site])), dtype\u001b[38;5;241m=\u001b[39m\u001b[38;5;28mself\u001b[39m\u001b[38;5;241m.\u001b[39mf_type)\n\u001b[1;32m    238\u001b[0m \u001b[38;5;66;03m# Run over all the points in the set (I_{k}, J_{k}) to compute the block A(I_{k}, J_{k}) and then invert it.\u001b[39;00m\n",
      "\u001b[0;31mValueError\u001b[0m: The left and right indexes must have the same dimension"
     ]
    }
   ],
   "source": [
    "integrator2 = ttrc_qtt_integrator(\n",
    "    func=test_function,\n",
    "    num_variables=10,\n",
    "    intervals=np.array([[0, 1] for _ in range(10)]),\n",
    "    d=10,\n",
    "    sweeps=10,\n",
    "    initial_bond_guess=3,\n",
    "    max_bond=20,\n",
    ")\n",
    "\n",
    "integrator2.integrate()"
   ]
  },
  {
   "cell_type": "code",
   "execution_count": 126,
   "metadata": {},
   "outputs": [
    {
     "data": {
      "text/plain": [
       "array([ 2,  4,  8, 10, 10, 10,  9,  9,  9,  8,  8,  8,  8,  9, 10, 10, 10,\n",
       "       10, 10, 10, 10, 10, 10, 10, 10, 10, 10, 10, 10, 10, 10, 10, 10,  8,\n",
       "        7,  6,  5,  5,  4,  4,  4,  3,  3,  2])"
      ]
     },
     "execution_count": 126,
     "metadata": {},
     "output_type": "execute_result"
    }
   ],
   "source": [
    "integrator2.interpolator.bonds"
   ]
  }
 ],
 "metadata": {
  "kernelspec": {
   "display_name": "tfg",
   "language": "python",
   "name": "python3"
  },
  "language_info": {
   "codemirror_mode": {
    "name": "ipython",
    "version": 3
   },
   "file_extension": ".py",
   "mimetype": "text/x-python",
   "name": "python",
   "nbconvert_exporter": "python",
   "pygments_lexer": "ipython3",
   "version": "3.12.2"
  }
 },
 "nbformat": 4,
 "nbformat_minor": 2
}
