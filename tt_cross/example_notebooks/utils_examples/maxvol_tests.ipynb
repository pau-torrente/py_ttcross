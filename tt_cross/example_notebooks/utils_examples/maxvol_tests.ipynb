{
 "cells": [
  {
   "cell_type": "code",
   "execution_count": 1,
   "metadata": {},
   "outputs": [],
   "source": [
    "import sys\n",
    "\n",
    "sys.path.append(\"/home/ptbadia/code/tfg/tfg_ttcross\")"
   ]
  },
  {
   "cell_type": "code",
   "execution_count": 2,
   "metadata": {},
   "outputs": [],
   "source": [
    "import numpy as np\n",
    "import numba as nb\n",
    "from tt_cross.src.maxvol import maxvol, py_maxvol, greedy_pivot_finder"
   ]
  },
  {
   "cell_type": "code",
   "execution_count": 3,
   "metadata": {},
   "outputs": [],
   "source": [
    "a = np.random.rand(20, 5)"
   ]
  },
  {
   "cell_type": "code",
   "execution_count": 4,
   "metadata": {},
   "outputs": [
    {
     "name": "stdout",
     "output_type": "stream",
     "text": [
      "[[2.54165487e-01 2.96792712e-01 2.92750350e-01 8.29334680e-01\n",
      "  1.77553490e-01]\n",
      " [8.44955307e-01 1.06721114e-01 3.31649691e-01 5.08909409e-01\n",
      "  2.10240772e-01]\n",
      " [7.80964646e-01 9.68136203e-01 6.08120405e-02 7.79138059e-01\n",
      "  7.92165673e-01]\n",
      " [7.33800111e-01 3.83155420e-01 7.78799986e-01 7.17527912e-01\n",
      "  4.60601410e-02]\n",
      " [8.26707084e-01 5.20403599e-04 9.21290925e-01 6.53635498e-01\n",
      "  1.37663728e-01]\n",
      " [4.54372742e-01 4.26907160e-01 6.95263543e-01 7.62604747e-01\n",
      "  7.98752109e-01]\n",
      " [7.58948601e-01 1.97018089e-02 6.89533221e-01 6.21042377e-01\n",
      "  7.63549262e-01]\n",
      " [4.82685217e-01 1.50018805e-01 6.96373507e-01 5.42326572e-01\n",
      "  8.03297809e-01]\n",
      " [8.66517611e-01 1.71768367e-02 1.43478631e-01 3.68502677e-01\n",
      "  5.92046184e-01]\n",
      " [8.13979056e-01 8.83054531e-01 7.44903214e-01 3.22618688e-01\n",
      "  7.93003003e-01]\n",
      " [1.74541239e-01 6.50140985e-01 1.17902864e-01 3.71363664e-01\n",
      "  6.07732098e-02]\n",
      " [9.56729439e-01 9.60652316e-01 1.57818750e-02 1.82348579e-02\n",
      "  2.52964131e-01]\n",
      " [8.01717770e-01 3.11268400e-01 7.02453212e-01 4.36912351e-01\n",
      "  1.22553413e-01]\n",
      " [9.92784629e-01 3.93210909e-03 8.00533753e-01 3.11526222e-01\n",
      "  3.82993025e-01]\n",
      " [9.21573752e-01 2.50019325e-01 9.14303630e-01 4.09673072e-01\n",
      "  2.33839652e-01]\n",
      " [3.75388946e-01 5.15627496e-01 6.98567583e-01 9.43840279e-01\n",
      "  9.96103283e-01]\n",
      " [3.01843674e-01 6.17908568e-01 7.02756418e-01 3.70888872e-01\n",
      "  3.43975294e-01]\n",
      " [5.95703785e-02 5.99599004e-01 2.02222724e-01 6.03590155e-01\n",
      "  5.29790395e-02]\n",
      " [3.71556012e-01 2.25743637e-01 6.05786224e-01 1.43510019e-01\n",
      "  3.83377195e-01]\n",
      " [8.36522196e-01 2.44248178e-01 8.71402746e-01 9.73515939e-01\n",
      "  6.30904814e-01]]\n"
     ]
    }
   ],
   "source": [
    "print(a)"
   ]
  },
  {
   "cell_type": "code",
   "execution_count": 7,
   "metadata": {},
   "outputs": [
    {
     "name": "stdout",
     "output_type": "stream",
     "text": [
      "[13  2 16 11  3  5  6  7  8  9 10  4 12  0 14 15  1 17 18 19]\n",
      "[13  2 16 11  3]\n",
      "0.40443443373259247\n"
     ]
    }
   ],
   "source": [
    "rows, _ = maxvol(a, 1.005, 1000)\n",
    "print(rows)\n",
    "print(np.linalg.det(a[rows]))"
   ]
  },
  {
   "cell_type": "code",
   "execution_count": 14,
   "metadata": {},
   "outputs": [
    {
     "name": "stdout",
     "output_type": "stream",
     "text": [
      "[ 8  2  9 15  3]\n"
     ]
    },
    {
     "data": {
      "text/plain": [
       "0.5250925634116863"
      ]
     },
     "execution_count": 14,
     "metadata": {},
     "output_type": "execute_result"
    }
   ],
   "source": [
    "# %%timeit\n",
    "strings = np.array(\n",
    "    [\"a\", \"b\", \"c\", \"d\", \"e\", \"f\", \"g\", \"h\", \"i\", \"j\", \"k\", \"l\", \"m\", \"n\", \"o\", \"p\", \"q\", \"r\", \"s\", \"t\"], dtype=object\n",
    ")\n",
    "rows, best_indices = py_maxvol(a, full_index_set=strings, tol=1.005, max_iters=1000)\n",
    "print(rows)\n",
    "\n",
    "abs(np.linalg.det(a[rows]))"
   ]
  },
  {
   "cell_type": "code",
   "execution_count": 26,
   "metadata": {},
   "outputs": [
    {
     "name": "stdout",
     "output_type": "stream",
     "text": [
      "[[7]\n",
      " [7]\n",
      " [7]\n",
      " [8]\n",
      " [8]\n",
      " [8]]\n",
      "[[7]\n",
      " [8]\n",
      " [7]\n",
      " [8]\n",
      " [7]\n",
      " [8]]\n"
     ]
    }
   ],
   "source": [
    "import numpy as np\n",
    "\n",
    "\n",
    "def concatenate_arrays(arr1, arr2):\n",
    "    arr1 = np.array(arr1)\n",
    "    arr2 = np.array(arr2)\n",
    "\n",
    "    N, M = arr1.shape\n",
    "    K, _ = arr2.shape\n",
    "\n",
    "    # Reshape arr2 to broadcast across arr1\n",
    "    arr2_broadcasted = np.tile(arr2, (N, 1))\n",
    "    print(np.repeat(arr2, N, axis=0))\n",
    "\n",
    "    # Repeat arr1 K times\n",
    "    arr1_repeated = np.repeat(arr1, K, axis=0)\n",
    "    print(arr2_broadcasted)\n",
    "\n",
    "    # Concatenate arr1_repeated and arr2_broadcasted along axis 1\n",
    "    result = np.concatenate((arr1_repeated, arr2_broadcasted), axis=1)\n",
    "\n",
    "    return result\n",
    "\n",
    "\n",
    "# Example usage:\n",
    "N, M = 3, 2\n",
    "K = 2\n",
    "arr1 = [[1, 2], [3, 4], [5, 6]]\n",
    "arr2 = [[7], [8]]\n",
    "\n",
    "result = concatenate_arrays(arr1, arr2)\n",
    "# print(arr2_broadcasted)"
   ]
  },
  {
   "cell_type": "code",
   "execution_count": 30,
   "metadata": {},
   "outputs": [
    {
     "name": "stdout",
     "output_type": "stream",
     "text": [
      "True\n"
     ]
    }
   ],
   "source": [
    "a = np.array([[1, 2], [3, 4], [5, 6]])\n",
    "b = np.array([[1, 2]])\n",
    "\n",
    "for bb in b:\n",
    "    print(bb in a)"
   ]
  },
  {
   "cell_type": "code",
   "execution_count": 23,
   "metadata": {},
   "outputs": [
    {
     "data": {
      "text/plain": [
       "(array([1]),)"
      ]
     },
     "execution_count": 23,
     "metadata": {},
     "output_type": "execute_result"
    }
   ],
   "source": [
    "arr1 = np.array([[1, 2], [3, 4], [5, 6]])\n",
    "arr2 = np.array([[3, 4], [5, 6]])\n",
    "\n",
    "np.where(np.all(arr1 == arr2[0], axis=1))"
   ]
  },
  {
   "cell_type": "code",
   "execution_count": 6,
   "metadata": {},
   "outputs": [
    {
     "data": {
      "text/plain": [
       "array(['t', 'n', 's', 'i', 'd'], dtype=object)"
      ]
     },
     "execution_count": 6,
     "metadata": {},
     "output_type": "execute_result"
    }
   ],
   "source": [
    "best_indices"
   ]
  },
  {
   "cell_type": "code",
   "execution_count": 7,
   "metadata": {},
   "outputs": [
    {
     "name": "stdout",
     "output_type": "stream",
     "text": [
      "[ 9 13 17  8  3  5  6  7  4  0 10 11 12  1 14 15 16  2 18 19]\n",
      "[[ 1.00000000e+00 -1.06546850e-16 -6.99554268e-18 -4.48572534e-17\n",
      "   5.82038994e-17]\n",
      " [ 2.87555409e-17  1.00000000e+00  4.37221417e-19  2.80357834e-18\n",
      "  -3.63774371e-18]\n",
      " [-8.05193143e-17  1.31092406e-16  1.00000000e+00  4.48572534e-17\n",
      "  -5.82038994e-17]\n",
      " [ 0.00000000e+00  0.00000000e+00  0.00000000e+00  1.00000000e+00\n",
      "   5.45661557e-18]\n",
      " [ 0.00000000e+00  0.00000000e+00  0.00000000e+00  0.00000000e+00\n",
      "   1.00000000e+00]\n",
      " [ 9.90952196e-02  1.15571414e-02  2.86562850e-01  1.49735176e-01\n",
      "   2.02598936e-01]\n",
      " [-7.35807268e-02  7.71819094e-01  6.72456271e-01  6.43726354e-01\n",
      "  -1.18436896e+00]\n",
      " [ 8.67938629e-01 -1.31324265e+00  2.63746115e-01 -7.95354624e-01\n",
      "   8.19907383e-01]\n",
      " [ 4.13958567e-01  4.19778180e-01  9.28848138e-02 -1.03210285e-01\n",
      "   2.81468141e-01]\n",
      " [-3.07688699e-01  1.81545143e-01 -2.42787196e-02  9.74204168e-01\n",
      "   2.29000383e-01]\n",
      " [ 4.19524941e-01  5.50638575e-01  9.44756249e-01  5.00594743e-03\n",
      "  -1.40807919e+00]\n",
      " [ 6.27305899e-01 -9.77489758e-01  6.25587149e-01  9.28103380e-02\n",
      "   3.34705297e-02]\n",
      " [-2.45021797e-01  1.12795770e+00  5.82019000e-02  1.07994353e+00\n",
      "  -2.78364906e-01]\n",
      " [ 5.10600275e-01 -1.03227020e+00 -2.01243533e-01 -2.26086764e-02\n",
      "   1.08035784e+00]\n",
      " [-2.43897732e-01  4.00885768e-01  8.15280722e-01 -1.53186211e-01\n",
      "  -7.69987969e-02]\n",
      " [-3.36317767e-02  1.31100872e+00  7.75317285e-01 -4.87608702e-01\n",
      "  -1.10260554e+00]\n",
      " [ 1.02730514e+00  5.86503853e-05  2.62828067e-01 -6.44778352e-01\n",
      "  -8.42796592e-02]\n",
      " [ 5.75693142e-01 -1.25588228e+00  1.33682568e-01 -9.56143355e-02\n",
      "   4.66781876e-01]\n",
      " [-8.38610448e-02  1.95057636e+00  1.05801788e+00 -5.90474610e-01\n",
      "  -1.36767955e+00]\n",
      " [ 1.16384131e+00 -9.97524429e-01  6.91735045e-02 -2.69040745e-01\n",
      "   2.26595185e-01]]\n"
     ]
    }
   ],
   "source": [
    "rows = maxvol(a, tol=1.005, max_iter=1000)"
   ]
  },
  {
   "cell_type": "code",
   "execution_count": 8,
   "metadata": {},
   "outputs": [
    {
     "data": {
      "text/plain": [
       "0.15091852804016956"
      ]
     },
     "execution_count": 8,
     "metadata": {},
     "output_type": "execute_result"
    }
   ],
   "source": [
    "abs(np.linalg.det(a[rows[0]]))"
   ]
  }
 ],
 "metadata": {
  "kernelspec": {
   "display_name": "tfg",
   "language": "python",
   "name": "python3"
  },
  "language_info": {
   "codemirror_mode": {
    "name": "ipython",
    "version": 3
   },
   "file_extension": ".py",
   "mimetype": "text/x-python",
   "name": "python",
   "nbconvert_exporter": "python",
   "pygments_lexer": "ipython3",
   "version": "3.12.2"
  }
 },
 "nbformat": 4,
 "nbformat_minor": 2
}
