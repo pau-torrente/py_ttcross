{
 "cells": [
  {
   "cell_type": "code",
   "execution_count": 1,
   "metadata": {},
   "outputs": [],
   "source": [
    "import sys\n",
    "\n",
    "sys.path.append(\"/home/ptbadia/code/tfg/tfg_ttcross\")"
   ]
  },
  {
   "cell_type": "code",
   "execution_count": 2,
   "metadata": {},
   "outputs": [],
   "source": [
    "import numpy as np\n",
    "import numba as nb\n",
    "import matplotlib.pyplot as plt\n",
    "from tt_cross.src.functions import *\n",
    "from tt_cross.src.dmrg_cross import *\n",
    "from tt_cross.src.interpolators_1D import *"
   ]
  },
  {
   "cell_type": "code",
   "execution_count": 3,
   "metadata": {},
   "outputs": [
    {
     "data": {
      "text/plain": [
       "array([[0.5       , 0.55172414, 0.60344828, 0.65517241, 0.70689655,\n",
       "        0.75862069, 0.81034483, 0.86206897, 0.9137931 , 0.96551724,\n",
       "        1.01724138, 1.06896552, 1.12068966, 1.17241379, 1.22413793,\n",
       "        1.27586207, 1.32758621, 1.37931034, 1.43103448, 1.48275862,\n",
       "        1.53448276, 1.5862069 , 1.63793103, 1.68965517, 1.74137931,\n",
       "        1.79310345, 1.84482759, 1.89655172, 1.94827586, 2.        ],\n",
       "       [0.5       , 0.55172414, 0.60344828, 0.65517241, 0.70689655,\n",
       "        0.75862069, 0.81034483, 0.86206897, 0.9137931 , 0.96551724,\n",
       "        1.01724138, 1.06896552, 1.12068966, 1.17241379, 1.22413793,\n",
       "        1.27586207, 1.32758621, 1.37931034, 1.43103448, 1.48275862,\n",
       "        1.53448276, 1.5862069 , 1.63793103, 1.68965517, 1.74137931,\n",
       "        1.79310345, 1.84482759, 1.89655172, 1.94827586, 2.        ],\n",
       "       [0.5       , 0.55172414, 0.60344828, 0.65517241, 0.70689655,\n",
       "        0.75862069, 0.81034483, 0.86206897, 0.9137931 , 0.96551724,\n",
       "        1.01724138, 1.06896552, 1.12068966, 1.17241379, 1.22413793,\n",
       "        1.27586207, 1.32758621, 1.37931034, 1.43103448, 1.48275862,\n",
       "        1.53448276, 1.5862069 , 1.63793103, 1.68965517, 1.74137931,\n",
       "        1.79310345, 1.84482759, 1.89655172, 1.94827586, 2.        ],\n",
       "       [0.5       , 0.55172414, 0.60344828, 0.65517241, 0.70689655,\n",
       "        0.75862069, 0.81034483, 0.86206897, 0.9137931 , 0.96551724,\n",
       "        1.01724138, 1.06896552, 1.12068966, 1.17241379, 1.22413793,\n",
       "        1.27586207, 1.32758621, 1.37931034, 1.43103448, 1.48275862,\n",
       "        1.53448276, 1.5862069 , 1.63793103, 1.68965517, 1.74137931,\n",
       "        1.79310345, 1.84482759, 1.89655172, 1.94827586, 2.        ],\n",
       "       [0.5       , 0.55172414, 0.60344828, 0.65517241, 0.70689655,\n",
       "        0.75862069, 0.81034483, 0.86206897, 0.9137931 , 0.96551724,\n",
       "        1.01724138, 1.06896552, 1.12068966, 1.17241379, 1.22413793,\n",
       "        1.27586207, 1.32758621, 1.37931034, 1.43103448, 1.48275862,\n",
       "        1.53448276, 1.5862069 , 1.63793103, 1.68965517, 1.74137931,\n",
       "        1.79310345, 1.84482759, 1.89655172, 1.94827586, 2.        ],\n",
       "       [0.5       , 0.55172414, 0.60344828, 0.65517241, 0.70689655,\n",
       "        0.75862069, 0.81034483, 0.86206897, 0.9137931 , 0.96551724,\n",
       "        1.01724138, 1.06896552, 1.12068966, 1.17241379, 1.22413793,\n",
       "        1.27586207, 1.32758621, 1.37931034, 1.43103448, 1.48275862,\n",
       "        1.53448276, 1.5862069 , 1.63793103, 1.68965517, 1.74137931,\n",
       "        1.79310345, 1.84482759, 1.89655172, 1.94827586, 2.        ],\n",
       "       [0.5       , 0.55172414, 0.60344828, 0.65517241, 0.70689655,\n",
       "        0.75862069, 0.81034483, 0.86206897, 0.9137931 , 0.96551724,\n",
       "        1.01724138, 1.06896552, 1.12068966, 1.17241379, 1.22413793,\n",
       "        1.27586207, 1.32758621, 1.37931034, 1.43103448, 1.48275862,\n",
       "        1.53448276, 1.5862069 , 1.63793103, 1.68965517, 1.74137931,\n",
       "        1.79310345, 1.84482759, 1.89655172, 1.94827586, 2.        ],\n",
       "       [0.5       , 0.55172414, 0.60344828, 0.65517241, 0.70689655,\n",
       "        0.75862069, 0.81034483, 0.86206897, 0.9137931 , 0.96551724,\n",
       "        1.01724138, 1.06896552, 1.12068966, 1.17241379, 1.22413793,\n",
       "        1.27586207, 1.32758621, 1.37931034, 1.43103448, 1.48275862,\n",
       "        1.53448276, 1.5862069 , 1.63793103, 1.68965517, 1.74137931,\n",
       "        1.79310345, 1.84482759, 1.89655172, 1.94827586, 2.        ],\n",
       "       [0.5       , 0.55172414, 0.60344828, 0.65517241, 0.70689655,\n",
       "        0.75862069, 0.81034483, 0.86206897, 0.9137931 , 0.96551724,\n",
       "        1.01724138, 1.06896552, 1.12068966, 1.17241379, 1.22413793,\n",
       "        1.27586207, 1.32758621, 1.37931034, 1.43103448, 1.48275862,\n",
       "        1.53448276, 1.5862069 , 1.63793103, 1.68965517, 1.74137931,\n",
       "        1.79310345, 1.84482759, 1.89655172, 1.94827586, 2.        ],\n",
       "       [0.5       , 0.55172414, 0.60344828, 0.65517241, 0.70689655,\n",
       "        0.75862069, 0.81034483, 0.86206897, 0.9137931 , 0.96551724,\n",
       "        1.01724138, 1.06896552, 1.12068966, 1.17241379, 1.22413793,\n",
       "        1.27586207, 1.32758621, 1.37931034, 1.43103448, 1.48275862,\n",
       "        1.53448276, 1.5862069 , 1.63793103, 1.68965517, 1.74137931,\n",
       "        1.79310345, 1.84482759, 1.89655172, 1.94827586, 2.        ]])"
      ]
     },
     "execution_count": 3,
     "metadata": {},
     "output_type": "execute_result"
    }
   ],
   "source": [
    "# grid_creation\n",
    "num_var = 10\n",
    "subdivision = 30\n",
    "temp = [np.linspace(0.5, 2, subdivision) for _ in range(num_var)]\n",
    "grid = np.array(temp)\n",
    "grid"
   ]
  },
  {
   "cell_type": "code",
   "execution_count": 8,
   "metadata": {},
   "outputs": [],
   "source": [
    "ttrc_interpolator = ttrc(\n",
    "    func=slater,\n",
    "    num_variables=num_var,\n",
    "    grid=grid,\n",
    "    maxvol_tol=1,\n",
    "    truncation_tol=1e-10,\n",
    "    sweeps=5,\n",
    "    initial_bond_guess=10,\n",
    ")"
   ]
  },
  {
   "cell_type": "code",
   "execution_count": 9,
   "metadata": {},
   "outputs": [
    {
     "name": "stdout",
     "output_type": "stream",
     "text": [
      "(1, 1)\n",
      "(10, 1)\n",
      "(10, 2)\n",
      "(10, 3)\n",
      "(10, 4)\n",
      "(10, 5)\n",
      "(10, 6)\n",
      "(10, 7)\n",
      "(10, 8)\n",
      "(10, 9)\n",
      "(10, 10)\n"
     ]
    }
   ],
   "source": [
    "for i in ttrc_interpolator.i:\n",
    "    print(i.shape)"
   ]
  },
  {
   "cell_type": "code",
   "execution_count": 10,
   "metadata": {},
   "outputs": [
    {
     "name": "stdout",
     "output_type": "stream",
     "text": [
      "(10, 9)\n",
      "(10, 8)\n",
      "(10, 7)\n",
      "(10, 6)\n",
      "(10, 5)\n",
      "(10, 4)\n",
      "(10, 3)\n",
      "(10, 2)\n",
      "(10, 1)\n",
      "(1, 1)\n"
     ]
    }
   ],
   "source": [
    "for j in ttrc_interpolator.j:\n",
    "    print(j.shape)"
   ]
  },
  {
   "cell_type": "code",
   "execution_count": 11,
   "metadata": {},
   "outputs": [
    {
     "data": {
      "text/plain": [
       "array([10, 10, 10, 10, 10, 10, 10, 10, 10])"
      ]
     },
     "execution_count": 11,
     "metadata": {},
     "output_type": "execute_result"
    }
   ],
   "source": [
    "ttrc_interpolator.bonds"
   ]
  },
  {
   "cell_type": "code",
   "execution_count": 12,
   "metadata": {},
   "outputs": [
    {
     "name": "stdout",
     "output_type": "stream",
     "text": [
      "(1, 30, 10)\n",
      "(10, 30, 10)\n",
      "(10, 30, 10)\n",
      "(10, 30, 10)\n",
      "(10, 30, 10)\n",
      "(10, 30, 10)\n",
      "(10, 30, 10)\n",
      "(10, 30, 10)\n",
      "(10, 30, 10)\n",
      "(10, 30, 1)\n"
     ]
    }
   ],
   "source": [
    "for t in ttrc_interpolator.b:\n",
    "    print(t.shape)"
   ]
  },
  {
   "cell_type": "code",
   "execution_count": 13,
   "metadata": {},
   "outputs": [
    {
     "data": {
      "text/plain": [
       "array([[1.]])"
      ]
     },
     "execution_count": 13,
     "metadata": {},
     "output_type": "execute_result"
    }
   ],
   "source": [
    "ttrc_interpolator.p[-1]"
   ]
  },
  {
   "cell_type": "code",
   "execution_count": 14,
   "metadata": {},
   "outputs": [],
   "source": [
    "ttrc_interpolator.initial_sweep()"
   ]
  },
  {
   "cell_type": "code",
   "execution_count": 15,
   "metadata": {},
   "outputs": [
    {
     "name": "stdout",
     "output_type": "stream",
     "text": [
      "[[ 1.00000000e+00  5.55111512e-17 -1.21430643e-17  1.56125113e-17\n",
      "   1.38777878e-17 -1.21430643e-16 -4.68375339e-17 -2.25514052e-17\n",
      "   7.97972799e-17  7.97972799e-17]\n",
      " [ 5.55111512e-17  1.00000000e+00 -4.16333634e-17 -5.55111512e-17\n",
      "   1.38777878e-17  2.08166817e-17  6.93889390e-18  0.00000000e+00\n",
      "  -3.46944695e-18  4.16333634e-17]\n",
      " [-1.21430643e-17 -4.16333634e-17  1.00000000e+00  5.55111512e-17\n",
      "   9.71445147e-17  4.16333634e-17  4.16333634e-17  6.93889390e-18\n",
      "   2.16840434e-18 -3.46944695e-17]\n",
      " [ 1.56125113e-17 -5.55111512e-17  5.55111512e-17  1.00000000e+00\n",
      "  -6.93889390e-18  8.32667268e-17 -4.16333634e-17  1.38777878e-17\n",
      "   2.42861287e-17  1.38777878e-16]\n",
      " [ 1.38777878e-17  1.38777878e-17  9.71445147e-17 -6.93889390e-18\n",
      "   1.00000000e+00 -1.11022302e-16  0.00000000e+00 -2.77555756e-17\n",
      "   1.24900090e-16 -8.32667268e-17]\n",
      " [-1.21430643e-16  2.08166817e-17  4.16333634e-17  8.32667268e-17\n",
      "  -1.11022302e-16  1.00000000e+00  1.11022302e-16 -2.77555756e-17\n",
      "  -3.46944695e-17  2.08166817e-17]\n",
      " [-4.68375339e-17  6.93889390e-18  4.16333634e-17 -4.16333634e-17\n",
      "   0.00000000e+00  1.11022302e-16  1.00000000e+00 -1.80411242e-16\n",
      "  -6.93889390e-18 -8.32667268e-17]\n",
      " [-2.25514052e-17  0.00000000e+00  6.93889390e-18  1.38777878e-17\n",
      "  -2.77555756e-17 -2.77555756e-17 -1.80411242e-16  1.00000000e+00\n",
      "  -2.77555756e-17  6.93889390e-18]\n",
      " [ 7.97972799e-17 -3.46944695e-18  2.16840434e-18  2.42861287e-17\n",
      "   1.24900090e-16 -3.46944695e-17 -6.93889390e-18 -2.77555756e-17\n",
      "   1.00000000e+00  2.77555756e-17]\n",
      " [ 7.97972799e-17  4.16333634e-17 -3.46944695e-17  1.38777878e-16\n",
      "  -8.32667268e-17  2.08166817e-17 -8.32667268e-17  6.93889390e-18\n",
      "   2.77555756e-17  1.00000000e+00]]\n",
      "=============\n",
      "[[ 1.00000000e+00  2.77555756e-17  3.46944695e-18 -4.16333634e-17\n",
      "   9.02056208e-17  0.00000000e+00 -4.33680869e-18  6.24500451e-17\n",
      "  -6.93889390e-18 -3.81639165e-17]\n",
      " [ 2.77555756e-17  1.00000000e+00 -1.31838984e-16 -1.11022302e-16\n",
      "   4.16333634e-17 -1.38777878e-17  2.60208521e-17  6.93889390e-17\n",
      "  -6.93889390e-17  6.93889390e-18]\n",
      " [ 3.46944695e-18 -1.31838984e-16  1.00000000e+00 -2.77555756e-17\n",
      "   0.00000000e+00  6.50521303e-18  8.32667268e-17  0.00000000e+00\n",
      "  -1.17961196e-16  1.11022302e-16]\n",
      " [-4.16333634e-17 -1.11022302e-16 -2.77555756e-17  1.00000000e+00\n",
      "  -1.04083409e-17  1.94289029e-16 -3.12250226e-17 -2.77555756e-17\n",
      "   5.55111512e-17 -1.38777878e-17]\n",
      " [ 9.02056208e-17  4.16333634e-17  0.00000000e+00 -1.04083409e-17\n",
      "   1.00000000e+00  3.46944695e-18 -2.08166817e-17  5.55111512e-17\n",
      "   2.77555756e-17 -6.93889390e-17]\n",
      " [ 0.00000000e+00 -1.38777878e-17  6.50521303e-18  1.94289029e-16\n",
      "   3.46944695e-18  1.00000000e+00 -4.16333634e-17  1.11022302e-16\n",
      "  -1.48318857e-16 -8.32667268e-17]\n",
      " [-4.33680869e-18  2.60208521e-17  8.32667268e-17 -3.12250226e-17\n",
      "  -2.08166817e-17 -4.16333634e-17  1.00000000e+00 -5.03069808e-17\n",
      "  -5.20417043e-17  4.16333634e-17]\n",
      " [ 6.24500451e-17  6.93889390e-17  0.00000000e+00 -2.77555756e-17\n",
      "   5.55111512e-17  1.11022302e-16 -5.03069808e-17  1.00000000e+00\n",
      "   4.85722573e-17 -2.77555756e-17]\n",
      " [-6.93889390e-18 -6.93889390e-17 -1.17961196e-16  5.55111512e-17\n",
      "   2.77555756e-17 -1.48318857e-16 -5.20417043e-17  4.85722573e-17\n",
      "   1.00000000e+00  2.68882139e-17]\n",
      " [-3.81639165e-17  6.93889390e-18  1.11022302e-16 -1.38777878e-17\n",
      "  -6.93889390e-17 -8.32667268e-17  4.16333634e-17 -2.77555756e-17\n",
      "   2.68882139e-17  1.00000000e+00]]\n",
      "=============\n",
      "[[ 1.00000000e+00  1.38777878e-17  4.16333634e-17  1.38777878e-17\n",
      "  -3.46944695e-17 -6.93889390e-17 -1.38777878e-17 -4.85722573e-17\n",
      "   7.63278329e-17  5.55111512e-17]\n",
      " [ 1.38777878e-17  1.00000000e+00 -8.32667268e-17  1.11022302e-16\n",
      "  -1.38777878e-17 -6.93889390e-18  2.77555756e-17 -5.20417043e-17\n",
      "   1.38777878e-17 -2.16840434e-17]\n",
      " [ 4.16333634e-17 -8.32667268e-17  1.00000000e+00 -1.65232411e-16\n",
      "   4.85722573e-17  5.55111512e-17  2.42861287e-17 -1.00613962e-16\n",
      "   3.46944695e-17 -9.80118764e-17]\n",
      " [ 1.38777878e-17  1.11022302e-16 -1.65232411e-16  1.00000000e+00\n",
      "  -1.66533454e-16 -2.08166817e-17 -9.36750677e-17  3.46944695e-17\n",
      "  -6.24500451e-17 -2.77555756e-17]\n",
      " [-3.46944695e-17 -1.38777878e-17  4.85722573e-17 -1.66533454e-16\n",
      "   1.00000000e+00 -1.38777878e-17  2.77420231e-17 -2.77555756e-17\n",
      "  -9.71445147e-17  6.93889390e-18]\n",
      " [-6.93889390e-17 -6.93889390e-18  5.55111512e-17 -2.08166817e-17\n",
      "  -1.38777878e-17  1.00000000e+00 -2.77555756e-17  2.77555756e-17\n",
      "   6.07153217e-17  1.24900090e-16]\n",
      " [-1.38777878e-17  2.77555756e-17  2.42861287e-17 -9.36750677e-17\n",
      "   2.77420231e-17 -2.77555756e-17  1.00000000e+00 -5.55111512e-17\n",
      "   9.88792381e-17 -1.38777878e-17]\n",
      " [-4.85722573e-17 -5.20417043e-17 -1.00613962e-16  3.46944695e-17\n",
      "  -2.77555756e-17  2.77555756e-17 -5.55111512e-17  1.00000000e+00\n",
      "  -4.51028104e-17  2.08166817e-17]\n",
      " [ 7.63278329e-17  1.38777878e-17  3.46944695e-17 -6.24500451e-17\n",
      "  -9.71445147e-17  6.07153217e-17  9.88792381e-17 -4.51028104e-17\n",
      "   1.00000000e+00 -6.41847686e-17]\n",
      " [ 5.55111512e-17 -2.16840434e-17 -9.80118764e-17 -2.77555756e-17\n",
      "   6.93889390e-18  1.24900090e-16 -1.38777878e-17  2.08166817e-17\n",
      "  -6.41847686e-17  1.00000000e+00]]\n",
      "=============\n",
      "[[ 1.00000000e+00  1.66533454e-16  0.00000000e+00  1.73472348e-17\n",
      "   1.38777878e-17  0.00000000e+00  4.85722573e-17  4.85722573e-17\n",
      "   0.00000000e+00 -5.55111512e-17]\n",
      " [ 1.66533454e-16  1.00000000e+00 -5.55111512e-17  1.60461922e-17\n",
      "  -4.16333634e-17  0.00000000e+00  6.93889390e-18 -2.77555756e-17\n",
      "  -1.38777878e-16  6.07153217e-17]\n",
      " [ 0.00000000e+00 -5.55111512e-17  1.00000000e+00  2.77555756e-17\n",
      "  -3.46944695e-17 -2.77555756e-17 -2.77555756e-17  9.71445147e-17\n",
      "  -5.55111512e-17  2.77555756e-17]\n",
      " [ 1.73472348e-17  1.60461922e-17  2.77555756e-17  1.00000000e+00\n",
      "  -2.08166817e-17 -6.93889390e-18  5.89805982e-17  2.77555756e-17\n",
      "   2.55871713e-17 -6.93889390e-17]\n",
      " [ 1.38777878e-17 -4.16333634e-17 -3.46944695e-17 -2.08166817e-17\n",
      "   1.00000000e+00  1.38777878e-17 -8.32667268e-17 -1.38777878e-17\n",
      "  -9.71445147e-17 -2.77555756e-17]\n",
      " [ 0.00000000e+00  0.00000000e+00 -2.77555756e-17 -6.93889390e-18\n",
      "   1.38777878e-17  1.00000000e+00 -5.20417043e-17 -4.85722573e-17\n",
      "  -6.93889390e-18 -5.03069808e-17]\n",
      " [ 4.85722573e-17  6.93889390e-18 -2.77555756e-17  5.89805982e-17\n",
      "  -8.32667268e-17 -5.20417043e-17  1.00000000e+00  1.12757026e-16\n",
      "  -7.45931095e-17  6.24500451e-17]\n",
      " [ 4.85722573e-17 -2.77555756e-17  9.71445147e-17  2.77555756e-17\n",
      "  -1.38777878e-17 -4.85722573e-17  1.12757026e-16  1.00000000e+00\n",
      "  -1.54715650e-16 -7.28583860e-17]\n",
      " [ 0.00000000e+00 -1.38777878e-16 -5.55111512e-17  2.55871713e-17\n",
      "  -9.71445147e-17 -6.93889390e-18 -7.45931095e-17 -1.54715650e-16\n",
      "   1.00000000e+00  1.38777878e-17]\n",
      " [-5.55111512e-17  6.07153217e-17  2.77555756e-17 -6.93889390e-17\n",
      "  -2.77555756e-17 -5.03069808e-17  6.24500451e-17 -7.28583860e-17\n",
      "   1.38777878e-17  1.00000000e+00]]\n",
      "=============\n",
      "[[ 1.00000000e+00 -1.80411242e-16  2.12503626e-17 -9.54097912e-18\n",
      "  -3.81639165e-17 -1.09287579e-16 -1.38777878e-17  4.16333634e-17\n",
      "   1.94289029e-16 -1.38777878e-17]\n",
      " [-1.80411242e-16  1.00000000e+00  5.20417043e-17 -5.55111512e-17\n",
      "  -6.93889390e-18  3.12250226e-17 -5.55111512e-17 -8.32667268e-17\n",
      "   1.38777878e-17 -3.46944695e-17]\n",
      " [ 2.12503626e-17  5.20417043e-17  1.00000000e+00 -3.46944695e-17\n",
      "   6.15826834e-17 -2.08166817e-17  2.51534904e-17  0.00000000e+00\n",
      "  -2.25514052e-17 -1.38777878e-17]\n",
      " [-9.54097912e-18 -5.55111512e-17 -3.46944695e-17  1.00000000e+00\n",
      "   2.77555756e-17  1.38777878e-17  6.85215773e-17  4.16333634e-17\n",
      "   2.77555756e-17  1.50920942e-16]\n",
      " [-3.81639165e-17 -6.93889390e-18  6.15826834e-17  2.77555756e-17\n",
      "   1.00000000e+00  4.16333634e-17  5.55111512e-17  6.24500451e-17\n",
      "  -5.55111512e-17  8.67361738e-17]\n",
      " [-1.09287579e-16  3.12250226e-17 -2.08166817e-17  1.38777878e-17\n",
      "   4.16333634e-17  1.00000000e+00  6.93889390e-18 -2.08166817e-17\n",
      "   2.42861287e-17  6.76542156e-17]\n",
      " [-1.38777878e-17 -5.55111512e-17  2.51534904e-17  6.85215773e-17\n",
      "   5.55111512e-17  6.93889390e-18  1.00000000e+00  4.16333634e-17\n",
      "   5.20417043e-17  4.16333634e-17]\n",
      " [ 4.16333634e-17 -8.32667268e-17  0.00000000e+00  4.16333634e-17\n",
      "   6.24500451e-17 -2.08166817e-17  4.16333634e-17  1.00000000e+00\n",
      "  -6.93889390e-18  8.67361738e-17]\n",
      " [ 1.94289029e-16  1.38777878e-17 -2.25514052e-17  2.77555756e-17\n",
      "  -5.55111512e-17  2.42861287e-17  5.20417043e-17 -6.93889390e-18\n",
      "   1.00000000e+00 -8.32667268e-17]\n",
      " [-1.38777878e-17 -3.46944695e-17 -1.38777878e-17  1.50920942e-16\n",
      "   8.67361738e-17  6.76542156e-17  4.16333634e-17  8.67361738e-17\n",
      "  -8.32667268e-17  1.00000000e+00]]\n",
      "=============\n",
      "[[ 1.00000000e+00 -1.52655666e-16  2.77555756e-17 -8.15320034e-17\n",
      "   8.67361738e-17  1.66533454e-16  3.12250226e-17 -7.63278329e-17\n",
      "  -6.93889390e-17  8.32667268e-17]\n",
      " [-1.52655666e-16  1.00000000e+00  2.22044605e-16  3.46944695e-17\n",
      "  -1.38777878e-17 -3.81639165e-17  4.85722573e-17  3.12250226e-17\n",
      "  -4.16333634e-17 -1.11022302e-16]\n",
      " [ 2.77555756e-17  2.22044605e-16  1.00000000e+00  6.93889390e-18\n",
      "  -1.38777878e-17  3.81639165e-17  2.77555756e-17  3.85975973e-17\n",
      "  -6.93889390e-18  1.38777878e-17]\n",
      " [-8.15320034e-17  3.46944695e-17  6.93889390e-18  1.00000000e+00\n",
      "   1.11022302e-16 -1.04083409e-16 -2.42861287e-17 -2.77555756e-17\n",
      "  -2.42861287e-17 -2.49800181e-16]\n",
      " [ 8.67361738e-17 -1.38777878e-17 -1.38777878e-17  1.11022302e-16\n",
      "   1.00000000e+00  0.00000000e+00 -4.16333634e-17  4.16333634e-17\n",
      "   0.00000000e+00  4.85722573e-17]\n",
      " [ 1.66533454e-16 -3.81639165e-17  3.81639165e-17 -1.04083409e-16\n",
      "   0.00000000e+00  1.00000000e+00  2.77555756e-17 -7.97972799e-17\n",
      "  -1.38777878e-17 -1.38777878e-17]\n",
      " [ 3.12250226e-17  4.85722573e-17  2.77555756e-17 -2.42861287e-17\n",
      "  -4.16333634e-17  2.77555756e-17  1.00000000e+00 -1.04083409e-17\n",
      "   5.55111512e-17  1.38777878e-17]\n",
      " [-7.63278329e-17  3.12250226e-17  3.85975973e-17 -2.77555756e-17\n",
      "   4.16333634e-17 -7.97972799e-17 -1.04083409e-17  1.00000000e+00\n",
      "   1.52655666e-16  1.38777878e-17]\n",
      " [-6.93889390e-17 -4.16333634e-17 -6.93889390e-18 -2.42861287e-17\n",
      "   0.00000000e+00 -1.38777878e-17  5.55111512e-17  1.52655666e-16\n",
      "   1.00000000e+00 -1.14491749e-16]\n",
      " [ 8.32667268e-17 -1.11022302e-16  1.38777878e-17 -2.49800181e-16\n",
      "   4.85722573e-17 -1.38777878e-17  1.38777878e-17  1.38777878e-17\n",
      "  -1.14491749e-16  1.00000000e+00]]\n",
      "=============\n",
      "[[ 1.00000000e+00  3.05311332e-16  5.55111512e-17  0.00000000e+00\n",
      "   6.93889390e-17 -1.56125113e-17 -7.28583860e-17 -2.77555756e-17\n",
      "  -9.02056208e-17 -1.24900090e-16]\n",
      " [ 3.05311332e-16  1.00000000e+00 -2.77555756e-17 -5.55111512e-17\n",
      "   1.38777878e-17  0.00000000e+00  4.33680869e-17  8.32667268e-17\n",
      "   2.08166817e-17 -1.38777878e-16]\n",
      " [ 5.55111512e-17 -2.77555756e-17  1.00000000e+00  5.55111512e-17\n",
      "  -1.38777878e-17  1.11022302e-16  0.00000000e+00 -2.77555756e-17\n",
      "   2.77555756e-17  7.63278329e-17]\n",
      " [ 0.00000000e+00 -5.55111512e-17  5.55111512e-17  1.00000000e+00\n",
      "  -1.94289029e-16  8.32667268e-17 -1.38777878e-17 -4.16333634e-17\n",
      "   1.45716772e-16  1.47451495e-17]\n",
      " [ 6.93889390e-17  1.38777878e-17 -1.38777878e-17 -1.94289029e-16\n",
      "   1.00000000e+00 -1.66533454e-16  1.38777878e-17  1.38777878e-16\n",
      "  -4.16333634e-17  5.55111512e-17]\n",
      " [-1.56125113e-17  0.00000000e+00  1.11022302e-16  8.32667268e-17\n",
      "  -1.66533454e-16  1.00000000e+00 -7.28583860e-17  4.85722573e-17\n",
      "   2.77555756e-17 -1.11022302e-16]\n",
      " [-7.28583860e-17  4.33680869e-17  0.00000000e+00 -1.38777878e-17\n",
      "   1.38777878e-17 -7.28583860e-17  1.00000000e+00 -2.77555756e-17\n",
      "   1.38777878e-17 -5.89805982e-17]\n",
      " [-2.77555756e-17  8.32667268e-17 -2.77555756e-17 -4.16333634e-17\n",
      "   1.38777878e-16  4.85722573e-17 -2.77555756e-17  1.00000000e+00\n",
      "   0.00000000e+00 -5.03069808e-17]\n",
      " [-9.02056208e-17  2.08166817e-17  2.77555756e-17  1.45716772e-16\n",
      "  -4.16333634e-17  2.77555756e-17  1.38777878e-17  0.00000000e+00\n",
      "   1.00000000e+00  8.32667268e-17]\n",
      " [-1.24900090e-16 -1.38777878e-16  7.63278329e-17  1.47451495e-17\n",
      "   5.55111512e-17 -1.11022302e-16 -5.89805982e-17 -5.03069808e-17\n",
      "   8.32667268e-17  1.00000000e+00]]\n",
      "=============\n",
      "[[ 1.00000000e+00  4.16333634e-17  3.46944695e-18  6.07153217e-17\n",
      "  -6.93889390e-18  1.12757026e-17 -8.67361738e-18 -1.99493200e-17\n",
      "  -2.36356074e-17  2.08166817e-17]\n",
      " [ 4.16333634e-17  1.00000000e+00 -9.71445147e-17  5.55111512e-17\n",
      "  -5.55111512e-17  2.77555756e-17  1.38777878e-17  2.08166817e-17\n",
      "  -1.38777878e-17  2.77555756e-17]\n",
      " [ 3.46944695e-18 -9.71445147e-17  1.00000000e+00 -6.93889390e-18\n",
      "   3.46944695e-17 -1.38777878e-17  2.77555756e-17  2.60208521e-17\n",
      "  -2.60208521e-18 -3.46944695e-17]\n",
      " [ 6.07153217e-17  5.55111512e-17 -6.93889390e-18  1.00000000e+00\n",
      "  -4.77048956e-17 -1.04083409e-16  1.38777878e-17 -1.38777878e-17\n",
      "  -3.46944695e-18  1.38777878e-17]\n",
      " [-6.93889390e-18 -5.55111512e-17  3.46944695e-17 -4.77048956e-17\n",
      "   1.00000000e+00 -5.55111512e-17 -1.38777878e-16 -8.32667268e-17\n",
      "   1.38777878e-17 -5.55111512e-17]\n",
      " [ 1.12757026e-17  2.77555756e-17 -1.38777878e-17 -1.04083409e-16\n",
      "  -5.55111512e-17  1.00000000e+00 -2.77555756e-17  5.03069808e-17\n",
      "  -1.73472348e-17  5.55111512e-17]\n",
      " [-8.67361738e-18  1.38777878e-17  2.77555756e-17  1.38777878e-17\n",
      "  -1.38777878e-16 -2.77555756e-17  1.00000000e+00 -6.93889390e-18\n",
      "   6.93889390e-18  4.85722573e-17]\n",
      " [-1.99493200e-17  2.08166817e-17  2.60208521e-17 -1.38777878e-17\n",
      "  -8.32667268e-17  5.03069808e-17 -6.93889390e-18  1.00000000e+00\n",
      "  -5.55111512e-17 -8.32667268e-17]\n",
      " [-2.36356074e-17 -1.38777878e-17 -2.60208521e-18 -3.46944695e-18\n",
      "   1.38777878e-17 -1.73472348e-17  6.93889390e-18 -5.55111512e-17\n",
      "   1.00000000e+00  1.38777878e-17]\n",
      " [ 2.08166817e-17  2.77555756e-17 -3.46944695e-17  1.38777878e-17\n",
      "  -5.55111512e-17  5.55111512e-17  4.85722573e-17 -8.32667268e-17\n",
      "   1.38777878e-17  1.00000000e+00]]\n",
      "=============\n",
      "[[ 1.00000000e+00 -7.70395906e-18 -6.53908465e-17  4.27407056e-17\n",
      "   4.56422244e-17  5.13506975e-17  2.35985001e-17 -7.79254536e-17\n",
      "  -1.39490728e-17 -2.27161348e-17]\n",
      " [-7.70395906e-18  1.00000000e+00  2.93440378e-17  5.09708353e-17\n",
      "  -7.48623525e-17 -1.28684727e-17  1.70138867e-17  5.61271990e-17\n",
      "  -6.07488400e-17 -2.71522988e-17]\n",
      " [-6.53908465e-17  2.93440378e-17  1.00000000e+00  4.08826983e-17\n",
      "  -3.28117438e-17  1.73329538e-16  1.78349595e-17 -1.50005726e-17\n",
      "  -5.66991257e-17  2.10445837e-17]\n",
      " [ 4.27407056e-17  5.09708353e-17  4.08826983e-17  1.00000000e+00\n",
      "   1.37878183e-17  1.37447212e-16  2.11756309e-17 -2.39065233e-17\n",
      "   1.61867175e-16  8.67599406e-18]\n",
      " [ 4.56422244e-17 -7.48623525e-17 -3.28117438e-17  1.37878183e-17\n",
      "   1.00000000e+00 -6.80164013e-17  7.35756803e-18  8.47765490e-17\n",
      "   2.96902552e-17 -1.24730402e-17]\n",
      " [ 5.13506975e-17 -1.28684727e-17  1.73329538e-16  1.37447212e-16\n",
      "  -6.80164013e-17  1.00000000e+00 -4.38498278e-17 -7.58323669e-18\n",
      "  -3.03763332e-17 -1.45890125e-17]\n",
      " [ 2.35985001e-17  1.70138867e-17  1.78349595e-17  2.11756309e-17\n",
      "   7.35756803e-18 -4.38498278e-17  1.00000000e+00  8.04013866e-17\n",
      "   9.66767133e-17  1.93220507e-17]\n",
      " [-7.79254536e-17  5.61271990e-17 -1.50005726e-17 -2.39065233e-17\n",
      "   8.47765490e-17 -7.58323669e-18  8.04013866e-17  1.00000000e+00\n",
      "  -5.77218437e-17 -8.78136990e-17]\n",
      " [-1.39490728e-17 -6.07488400e-17 -5.66991257e-17  1.61867175e-16\n",
      "   2.96902552e-17 -3.03763332e-17  9.66767133e-17 -5.77218437e-17\n",
      "   1.00000000e+00  2.75372409e-17]\n",
      " [-2.27161348e-17 -2.71522988e-17  2.10445837e-17  8.67599406e-18\n",
      "  -1.24730402e-17 -1.45890125e-17  1.93220507e-17 -8.78136990e-17\n",
      "   2.75372409e-17  1.00000000e+00]]\n",
      "=============\n"
     ]
    }
   ],
   "source": [
    "for i in range(1, num_var):\n",
    "    a = ncon([ttrc_interpolator.b[i], ttrc_interpolator.b[i]], [[-1, 1, 2], [-2, 1, 2]])\n",
    "    print(a)\n",
    "    print(\"=============\")"
   ]
  },
  {
   "cell_type": "code",
   "execution_count": 16,
   "metadata": {},
   "outputs": [],
   "source": [
    "for site in range(num_var - 1):\n",
    "    ttrc_interpolator.left_right_update(site)"
   ]
  },
  {
   "cell_type": "code",
   "execution_count": 17,
   "metadata": {},
   "outputs": [
    {
     "name": "stdout",
     "output_type": "stream",
     "text": [
      "(1, 1)\n",
      "(6, 6)\n",
      "(7, 7)\n",
      "(7, 7)\n",
      "(8, 8)\n",
      "(9, 9)\n",
      "(9, 9)\n",
      "(8, 8)\n",
      "(9, 9)\n",
      "(7, 7)\n",
      "(1, 1)\n"
     ]
    }
   ],
   "source": [
    "for p in ttrc_interpolator.p:\n",
    "    print(p.shape)"
   ]
  },
  {
   "cell_type": "code",
   "execution_count": 18,
   "metadata": {},
   "outputs": [
    {
     "name": "stdout",
     "output_type": "stream",
     "text": [
      "(1, 30, 6)\n",
      "(6, 30, 7)\n",
      "(7, 30, 7)\n",
      "(7, 30, 8)\n",
      "(8, 30, 9)\n",
      "(9, 30, 9)\n",
      "(9, 30, 8)\n",
      "(8, 30, 9)\n",
      "(9, 30, 7)\n",
      "(7, 30, 1)\n"
     ]
    }
   ],
   "source": [
    "for b in ttrc_interpolator.b:\n",
    "    print(b.shape)"
   ]
  },
  {
   "cell_type": "code",
   "execution_count": 19,
   "metadata": {},
   "outputs": [],
   "source": [
    "for site in range(num_var - 2, -1, -1):\n",
    "    ttrc_interpolator.right_left_update(site)"
   ]
  },
  {
   "cell_type": "code",
   "execution_count": 20,
   "metadata": {},
   "outputs": [
    {
     "name": "stdout",
     "output_type": "stream",
     "text": [
      "(1, 1)\n",
      "(6, 6)\n",
      "(7, 7)\n",
      "(7, 7)\n",
      "(7, 7)\n",
      "(8, 8)\n",
      "(9, 9)\n",
      "(10, 10)\n",
      "(9, 9)\n",
      "(7, 7)\n",
      "(1, 1)\n"
     ]
    }
   ],
   "source": [
    "for p in ttrc_interpolator.p:\n",
    "    print(p.shape)"
   ]
  },
  {
   "cell_type": "code",
   "execution_count": 21,
   "metadata": {},
   "outputs": [
    {
     "data": {
      "text/plain": [
       "array([ 6,  7,  7,  7,  8,  9, 10,  9,  7])"
      ]
     },
     "execution_count": 21,
     "metadata": {},
     "output_type": "execute_result"
    }
   ],
   "source": [
    "ttrc_interpolator.bonds"
   ]
  },
  {
   "cell_type": "code",
   "execution_count": 23,
   "metadata": {},
   "outputs": [
    {
     "name": "stdout",
     "output_type": "stream",
     "text": [
      "Sweep 1\n",
      "Sweep 2\n",
      "Sweep 3\n",
      "Sweep 4\n",
      "Sweep 5\n"
     ]
    }
   ],
   "source": [
    "ttrc_interpolator = ttrc(\n",
    "    func=slater,\n",
    "    num_variables=num_var,\n",
    "    grid=grid,\n",
    "    maxvol_tol=1,\n",
    "    truncation_tol=1e-10,\n",
    "    sweeps=5,\n",
    "    initial_bond_guess=10,\n",
    ")\n",
    "\n",
    "mps_ttrc = ttrc_interpolator.run()"
   ]
  },
  {
   "cell_type": "code",
   "execution_count": 24,
   "metadata": {},
   "outputs": [
    {
     "name": "stdout",
     "output_type": "stream",
     "text": [
      "(6, 1)\n",
      "(6, 9)\n",
      "==========\n",
      "(7, 2)\n",
      "(7, 8)\n",
      "==========\n",
      "(7, 3)\n",
      "(7, 7)\n",
      "==========\n",
      "(7, 4)\n",
      "(7, 6)\n",
      "==========\n",
      "(8, 5)\n",
      "(8, 5)\n",
      "==========\n",
      "(9, 6)\n",
      "(9, 4)\n",
      "==========\n",
      "(10, 7)\n",
      "(10, 3)\n",
      "==========\n",
      "(9, 8)\n",
      "(9, 2)\n",
      "==========\n",
      "(7, 9)\n",
      "(7, 1)\n",
      "==========\n"
     ]
    }
   ],
   "source": [
    "for site in range(num_var - 1):\n",
    "    print(ttrc_interpolator.i[site + 1].shape)\n",
    "    print(ttrc_interpolator.j[site].shape)\n",
    "    print(\"==========\")"
   ]
  },
  {
   "cell_type": "code",
   "execution_count": 25,
   "metadata": {},
   "outputs": [
    {
     "name": "stdout",
     "output_type": "stream",
     "text": [
      "(1, 30, 6)\n",
      "(6, 6)\n",
      "(6, 30, 7)\n",
      "(7, 7)\n",
      "(7, 30, 7)\n",
      "(7, 7)\n",
      "(7, 30, 7)\n",
      "(7, 7)\n",
      "(7, 30, 8)\n",
      "(8, 8)\n",
      "(8, 30, 9)\n",
      "(9, 9)\n",
      "(9, 30, 10)\n",
      "(10, 10)\n",
      "(10, 30, 9)\n",
      "(9, 9)\n",
      "(9, 30, 7)\n",
      "(7, 7)\n",
      "(7, 30, 1)\n"
     ]
    }
   ],
   "source": [
    "for t in mps_ttrc:\n",
    "    print(t.shape)"
   ]
  },
  {
   "cell_type": "markdown",
   "metadata": {},
   "source": [
    "# 1-D Interpolator"
   ]
  },
  {
   "cell_type": "code",
   "execution_count": 26,
   "metadata": {},
   "outputs": [],
   "source": [
    "def custom_func(x):\n",
    "    B = 2 ** (-30)\n",
    "    return np.cos(x / B) * np.cos(x / (4 * np.sqrt(5) * B)) * np.exp(-(x**2)) + 2 * np.exp(-x)"
   ]
  },
  {
   "cell_type": "code",
   "execution_count": 27,
   "metadata": {},
   "outputs": [],
   "source": [
    "interval = [0, 2 ** (-23)]\n",
    "d = 15"
   ]
  },
  {
   "cell_type": "code",
   "execution_count": 28,
   "metadata": {},
   "outputs": [],
   "source": [
    "test_interpolator = ttrc_one_dim_func_interpolator(\n",
    "    func=custom_func,\n",
    "    interval=interval,\n",
    "    d=15,\n",
    "    complex_function=False,\n",
    ")"
   ]
  },
  {
   "cell_type": "code",
   "execution_count": 29,
   "metadata": {},
   "outputs": [
    {
     "name": "stdout",
     "output_type": "stream",
     "text": [
      "Sweep 1\n",
      "Sweep 2\n",
      "Sweep 3\n",
      "Sweep 4\n",
      "Sweep 5\n",
      "Sweep 6\n",
      "Sweep 7\n",
      "Sweep 8\n",
      "Sweep 9\n",
      "Sweep 10\n"
     ]
    }
   ],
   "source": [
    "test_interpolator.interpolate(\n",
    "    max_bond=10,\n",
    "    maxvol_tol=1.0001,\n",
    "    truncation_tol=1e-10,\n",
    "    sweeps=10,\n",
    ")"
   ]
  },
  {
   "cell_type": "code",
   "execution_count": 30,
   "metadata": {},
   "outputs": [
    {
     "name": "stdout",
     "output_type": "stream",
     "text": [
      "(1, 1)\n",
      "(2, 1)\n",
      "(4, 2)\n",
      "(5, 3)\n",
      "(5, 4)\n",
      "(5, 5)\n",
      "(5, 6)\n",
      "(5, 7)\n",
      "(5, 8)\n",
      "(5, 9)\n",
      "(5, 10)\n",
      "(4, 11)\n",
      "(4, 12)\n",
      "(4, 13)\n",
      "(2, 14)\n",
      "(2, 15)\n"
     ]
    }
   ],
   "source": [
    "for i in test_interpolator.interpolator.i:\n",
    "    print(i.shape)"
   ]
  },
  {
   "cell_type": "code",
   "execution_count": 31,
   "metadata": {},
   "outputs": [
    {
     "name": "stdout",
     "output_type": "stream",
     "text": [
      "(2, 14)\n",
      "(4, 13)\n",
      "(5, 12)\n",
      "(5, 11)\n",
      "(5, 10)\n",
      "(5, 9)\n",
      "(5, 8)\n",
      "(5, 7)\n",
      "(5, 6)\n",
      "(5, 5)\n",
      "(4, 4)\n",
      "(4, 3)\n",
      "(4, 2)\n",
      "(2, 1)\n",
      "(1, 1)\n"
     ]
    }
   ],
   "source": [
    "for j in test_interpolator.interpolator.j:\n",
    "    print(j.shape)"
   ]
  },
  {
   "cell_type": "code",
   "execution_count": 32,
   "metadata": {},
   "outputs": [
    {
     "data": {
      "image/png": "[encoded data removed]",
      "text/plain": [
       "<Figure size 640x480 with 1 Axes>"
      ]
     },
     "metadata": {},
     "output_type": "display_data"
    }
   ],
   "source": [
    "import matplotlib.pyplot as plt\n",
    "\n",
    "x = np.linspace(0, 2 ** (-23), 1000)\n",
    "y = custom_func(x)\n",
    "interpolation = np.array([test_interpolator.eval(x_i) for x_i in x])\n",
    "\n",
    "plt.plot(x, y, label=\"exact_value\")\n",
    "plt.plot(x, interpolation, label=\"Interpolation\")\n",
    "\n",
    "plt.xlabel(\"x\")\n",
    "plt.ylabel(\"f(x)\")\n",
    "plt.title(\"TTRC interpolation\")\n",
    "plt.legend()\n",
    "plt.grid(True)\n",
    "plt.show()"
   ]
  },
  {
   "cell_type": "code",
   "execution_count": 37,
   "metadata": {},
   "outputs": [
    {
     "name": "stdout",
     "output_type": "stream",
     "text": [
      "[[0.0 0.0 1.0 0.0 1.0 1.0 1.0 1.0 1.0 0.0 1.0 0.0 0.0 0.0 1.0]\n",
      " [1.0 1.0 0.0 0.0 1.0 1.0 0.0 1.0 1.0 1.0 1.0 1.0 1.0 0.0 1.0]]\n",
      "==============================\n",
      "[[0.0 1.0 1.0 1.0 0.0 0.0 0.0 1.0 1.0 1.0 1.0 1.0 1.0 0.0 1.0]\n",
      " [1.0 0.0 0.0 0.0 1.0 1.0 0.0 1.0 1.0 1.0 1.0 1.0 1.0 0.0 1.0]\n",
      " [0.0 0.0 1.0 0.0 1.0 1.0 1.0 1.0 1.0 0.0 1.0 0.0 0.0 0.0 1.0]\n",
      " [1.0 1.0 0.0 1.0 0.0 0.0 0.0 0.0 1.0 0.0 0.0 0.0 0.0 0.0 1.0]]\n",
      "==============================\n",
      "[[0.0 0.0 0.0 0.0 1.0 1.0 0.0 1.0 1.0 1.0 1.0 1.0 1.0 0.0 1.0]\n",
      " [0.0 1.0 1.0 1.0 0.0 0.0 0.0 0.0 1.0 0.0 0.0 0.0 0.0 0.0 1.0]\n",
      " [1.0 0.0 1.0 1.0 0.0 0.0 0.0 1.0 1.0 1.0 1.0 1.0 1.0 0.0 1.0]\n",
      " [0.0 0.0 1.0 0.0 1.0 1.0 1.0 1.0 1.0 0.0 1.0 0.0 0.0 0.0 1.0]\n",
      " [1.0 1.0 0.0 1.0 1.0 1.0 0.0 1.0 1.0 1.0 1.0 1.0 1.0 0.0 1.0]]\n",
      "==============================\n",
      "[[0.0 1.0 1.0 0.0 0.0 0.0 0.0 1.0 1.0 1.0 1.0 1.0 1.0 0.0 1.0]\n",
      " [0.0 0.0 1.0 1.0 1.0 0.0 0.0 0.0 1.0 0.0 0.0 0.0 0.0 0.0 1.0]\n",
      " [0.0 0.0 0.0 0.0 1.0 1.0 0.0 1.0 1.0 1.0 1.0 1.0 1.0 0.0 1.0]\n",
      " [1.0 1.0 0.0 0.0 1.0 1.0 1.0 1.0 1.0 0.0 1.0 0.0 0.0 0.0 1.0]\n",
      " [0.0 0.0 1.0 0.0 0.0 0.0 0.0 0.0 1.0 0.0 0.0 0.0 0.0 0.0 1.0]]\n",
      "==============================\n",
      "[[0.0 1.0 1.0 0.0 0.0 0.0 0.0 0.0 1.0 0.0 0.0 0.0 0.0 0.0 1.0]\n",
      " [0.0 0.0 1.0 1.0 1.0 1.0 1.0 1.0 1.0 0.0 1.0 0.0 0.0 0.0 1.0]\n",
      " [0.0 1.0 1.0 0.0 1.0 1.0 1.0 1.0 0.0 0.0 0.0 1.0 1.0 1.0 0.0]\n",
      " [0.0 0.0 0.0 0.0 1.0 0.0 0.0 1.0 1.0 1.0 1.0 1.0 1.0 0.0 1.0]\n",
      " [1.0 1.0 0.0 0.0 1.0 1.0 0.0 1.0 1.0 1.0 1.0 1.0 1.0 0.0 1.0]]\n",
      "==============================\n",
      "[[0.0 0.0 0.0 0.0 1.0 1.0 1.0 1.0 0.0 0.0 0.0 1.0 1.0 1.0 0.0]\n",
      " [0.0 1.0 1.0 0.0 1.0 1.0 0.0 0.0 1.0 0.0 0.0 0.0 0.0 0.0 1.0]\n",
      " [0.0 0.0 1.0 1.0 1.0 1.0 0.0 1.0 1.0 0.0 1.0 0.0 0.0 0.0 1.0]\n",
      " [1.0 1.0 0.0 0.0 1.0 1.0 0.0 1.0 1.0 1.0 1.0 1.0 1.0 0.0 1.0]\n",
      " [1.0 1.0 0.0 0.0 1.0 0.0 1.0 1.0 1.0 0.0 1.0 0.0 0.0 0.0 1.0]]\n",
      "==============================\n",
      "[[0.0 0.0 0.0 0.0 1.0 1.0 1.0 0.0 1.0 0.0 1.0 0.0 0.0 0.0 1.0]\n",
      " [0.0 1.0 1.0 0.0 1.0 1.0 1.0 1.0 1.0 1.0 1.0 1.0 1.0 0.0 1.0]\n",
      " [0.0 0.0 1.0 1.0 1.0 1.0 1.0 0.0 1.0 0.0 0.0 0.0 0.0 0.0 1.0]\n",
      " [1.0 1.0 0.0 0.0 1.0 0.0 0.0 1.0 1.0 0.0 1.0 0.0 0.0 0.0 1.0]\n",
      " [1.0 1.0 0.0 0.0 1.0 1.0 0.0 1.0 0.0 0.0 0.0 1.0 1.0 1.0 0.0]]\n",
      "==============================\n",
      "[[0.0 1.0 1.0 0.0 1.0 1.0 1.0 0.0 1.0 0.0 1.0 0.0 0.0 0.0 1.0]\n",
      " [0.0 0.0 0.0 0.0 1.0 1.0 1.0 0.0 0.0 0.0 0.0 1.0 1.0 1.0 0.0]\n",
      " [0.0 0.0 1.0 1.0 1.0 1.0 1.0 0.0 1.0 1.0 1.0 1.0 1.0 0.0 1.0]\n",
      " [1.0 1.0 0.0 0.0 1.0 0.0 0.0 1.0 0.0 1.0 1.0 1.0 1.0 0.0 1.0]\n",
      " [1.0 1.0 0.0 0.0 1.0 1.0 0.0 0.0 1.0 0.0 0.0 0.0 0.0 0.0 1.0]]\n",
      "==============================\n",
      "[[0.0 0.0 0.0 0.0 1.0 1.0 1.0 0.0 0.0 0.0 1.0 0.0 0.0 0.0 1.0]\n",
      " [0.0 1.0 1.0 0.0 1.0 1.0 1.0 0.0 0.0 0.0 0.0 0.0 0.0 0.0 1.0]\n",
      " [0.0 0.0 1.0 1.0 1.0 1.0 1.0 0.0 0.0 1.0 1.0 1.0 1.0 0.0 1.0]\n",
      " [1.0 1.0 0.0 0.0 1.0 0.0 0.0 1.0 0.0 1.0 0.0 1.0 1.0 0.0 1.0]\n",
      " [1.0 1.0 0.0 0.0 1.0 1.0 0.0 0.0 1.0 0.0 0.0 1.0 1.0 1.0 0.0]]\n",
      "==============================\n",
      "[[0.0 0.0 0.0 0.0 1.0 1.0 1.0 0.0 0.0 1.0 1.0 1.0 1.0 0.0 1.0]\n",
      " [0.0 1.0 1.0 0.0 1.0 1.0 1.0 0.0 0.0 0.0 0.0 0.0 0.0 0.0 1.0]\n",
      " [0.0 0.0 1.0 1.0 1.0 1.0 1.0 0.0 0.0 1.0 0.0 1.0 1.0 1.0 0.0]\n",
      " [1.0 1.0 0.0 0.0 1.0 0.0 0.0 1.0 0.0 1.0 1.0 0.0 0.0 0.0 1.0]\n",
      " [1.0 1.0 0.0 0.0 1.0 1.0 0.0 0.0 1.0 1.0 0.0 1.0 1.0 0.0 1.0]]\n",
      "==============================\n",
      "[[0.0 0.0 0.0 0.0 1.0 1.0 1.0 0.0 0.0 1.0 0.0 1.0 1.0 1.0 0.0]\n",
      " [0.0 1.0 1.0 0.0 1.0 1.0 1.0 0.0 0.0 0.0 0.0 1.0 1.0 0.0 1.0]\n",
      " [0.0 0.0 1.0 1.0 1.0 1.0 1.0 0.0 0.0 1.0 0.0 0.0 0.0 0.0 1.0]\n",
      " [1.0 1.0 0.0 0.0 1.0 0.0 0.0 1.0 0.0 1.0 1.0 0.0 0.0 1.0 1.0]]\n",
      "==============================\n",
      "[[0.0 0.0 0.0 0.0 1.0 1.0 1.0 0.0 0.0 1.0 0.0 0.0 0.0 0.0 1.0]\n",
      " [0.0 1.0 1.0 0.0 1.0 1.0 1.0 0.0 0.0 0.0 0.0 0.0 1.0 1.0 0.0]\n",
      " [0.0 0.0 1.0 1.0 1.0 1.0 1.0 0.0 0.0 1.0 0.0 0.0 0.0 1.0 1.0]\n",
      " [1.0 1.0 0.0 0.0 1.0 0.0 0.0 1.0 0.0 1.0 1.0 0.0 1.0 0.0 1.0]]\n",
      "==============================\n",
      "[[0.0 0.0 0.0 0.0 1.0 1.0 1.0 0.0 0.0 1.0 0.0 0.0 0.0 0.0 1.0]\n",
      " [0.0 1.0 1.0 0.0 1.0 1.0 1.0 0.0 0.0 0.0 0.0 0.0 0.0 0.0 0.0]\n",
      " [0.0 0.0 1.0 1.0 1.0 1.0 1.0 0.0 0.0 1.0 0.0 0.0 0.0 1.0 1.0]\n",
      " [1.0 1.0 0.0 0.0 1.0 0.0 0.0 1.0 0.0 1.0 1.0 0.0 0.0 1.0 0.0]]\n",
      "==============================\n",
      "[[1.0 1.0 0.0 0.0 1.0 0.0 0.0 1.0 0.0 1.0 1.0 0.0 0.0 1.0 1.0]\n",
      " [0.0 0.0 0.0 0.0 1.0 1.0 1.0 0.0 0.0 1.0 0.0 0.0 0.0 0.0 0.0]]\n",
      "==============================\n"
     ]
    }
   ],
   "source": [
    "for i in range(test_interpolator.d - 1):\n",
    "    print(np.concatenate((test_interpolator.interpolator.i[i + 1], test_interpolator.interpolator.j[i]), axis=1))\n",
    "    print(\"==============================\")"
   ]
  },
  {
   "cell_type": "code",
   "execution_count": 35,
   "metadata": {},
   "outputs": [
    {
     "name": "stdout",
     "output_type": "stream",
     "text": [
      "0.5296511250719536\n",
      "0.39156931691281316\n"
     ]
    }
   ],
   "source": [
    "print(np.sum(np.abs(y - interpolation)))\n",
    "# The tail of the function seems to have some artifacts...\n",
    "print(np.sum(np.abs(y[:-50] - interpolation[:-50])))"
   ]
  }
 ],
 "metadata": {
  "kernelspec": {
   "display_name": "tfg",
   "language": "python",
   "name": "python3"
  },
  "language_info": {
   "codemirror_mode": {
    "name": "ipython",
    "version": 3
   },
   "file_extension": ".py",
   "mimetype": "text/x-python",
   "name": "python",
   "nbconvert_exporter": "python",
   "pygments_lexer": "ipython3",
   "version": "3.12.2"
  }
 },
 "nbformat": 4,
 "nbformat_minor": 2
}
