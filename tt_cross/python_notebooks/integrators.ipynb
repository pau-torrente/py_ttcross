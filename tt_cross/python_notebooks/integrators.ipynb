{
 "cells": [
  {
   "cell_type": "code",
   "execution_count": 1,
   "metadata": {},
   "outputs": [],
   "source": [
    "import sys\n",
    "\n",
    "sys.path.append(\"/home/ptbadia/code/tfg/tfg_ttcross/tt_cross\")"
   ]
  },
  {
   "cell_type": "code",
   "execution_count": 2,
   "metadata": {},
   "outputs": [],
   "source": [
    "from src.integrators import (\n",
    "    ttrc_integrator,\n",
    "    greedy_cross_integrator,\n",
    "    tracked_greedycross_integrator,\n",
    "    tracked_ttrc_integrator,\n",
    ")\n",
    "import matplotlib.pyplot as plt\n",
    "import numpy as np\n",
    "from src.functions import *"
   ]
  },
  {
   "cell_type": "code",
   "execution_count": 45,
   "metadata": {},
   "outputs": [],
   "source": [
    "def test_function(x: np.ndarray) -> np.ndarray:\n",
    "    return np.log(np.prod(x))\n",
    "\n",
    "\n",
    "def test_function(x: np.ndarray) -> float:\n",
    "    return np.sin(sum(x)) * np.prod(x * np.exp(-x)) * (3 * np.linalg.norm(x) + 1 + x[0])\n",
    "\n",
    "\n",
    "def test_function(x: np.ndarray) -> float:\n",
    "    return np.sin(sum(x)) * np.prod(np.exp(-x))\n",
    "\n",
    "\n",
    "def test_function2(x: np.ndarray) -> np.ndarray:\n",
    "    return np.prod(np.sin(x) / 2)"
   ]
  },
  {
   "cell_type": "code",
   "execution_count": 54,
   "metadata": {},
   "outputs": [
    {
     "data": {
      "text/plain": [
       "[<matplotlib.lines.Line2D at 0x7fa6becf4fb0>]"
      ]
     },
     "execution_count": 54,
     "metadata": {},
     "output_type": "execute_result"
    },
    {
     "data": {
      "image/png": "[encoded data removed]",
      "text/plain": [
       "<Figure size 640x480 with 1 Axes>"
      ]
     },
     "metadata": {},
     "output_type": "display_data"
    }
   ],
   "source": [
    "x = np.linspace(0, 1)\n",
    "y = np.sin(4 * x) * np.exp(-x) + 3 * x - 3 * x**2\n",
    "\n",
    "plt.plot(x, y)"
   ]
  },
  {
   "cell_type": "code",
   "execution_count": 47,
   "metadata": {},
   "outputs": [
    {
     "name": "stdout",
     "output_type": "stream",
     "text": [
      "Initialization done after time: 0.04955863952636719 seconds and 1 tries.\n",
      "Sweep 1\n",
      "Sweep 2\n",
      "Sweep 3\n",
      "Sweep 4\n",
      "Sweep 5\n"
     ]
    },
    {
     "data": {
      "text/plain": [
       "-0.005841290007543573"
      ]
     },
     "execution_count": 47,
     "metadata": {},
     "output_type": "execute_result"
    }
   ],
   "source": [
    "integrator = tracked_ttrc_integrator(\n",
    "    func=test_function,\n",
    "    num_variables=10,\n",
    "    intervals=np.array([[0, 1] for _ in range(10)]),\n",
    "    points_per_variable=20,\n",
    "    sweeps=5,\n",
    "    initial_bond_guess=5,\n",
    "    max_bond=10,\n",
    "    quadrature=\"Gauss\",\n",
    ")\n",
    "integrator.integrate()"
   ]
  },
  {
   "cell_type": "code",
   "execution_count": 49,
   "metadata": {},
   "outputs": [
    {
     "data": {
      "text/plain": [
       "array([2, 2, 2, 2, 2, 2, 2, 2, 2])"
      ]
     },
     "execution_count": 49,
     "metadata": {},
     "output_type": "execute_result"
    }
   ],
   "source": [
    "integrator.bonds"
   ]
  },
  {
   "cell_type": "code",
   "execution_count": 6,
   "metadata": {},
   "outputs": [
    {
     "data": {
      "text/plain": [
       "dict_items([(155600, -1.0058278129172035e-18), (245200, -1.00582781291716e-18), (334800, -1.00582781291716e-18), (424400, -1.00582781291716e-18), (514000, -1.00582781291716e-18), (603600, -1.00582781291716e-18), (693200, -1.00582781291716e-18), (782800, -1.00582781291716e-18), (872400, -1.00582781291716e-18), (962000, -1.00582781291716e-18)])"
      ]
     },
     "execution_count": 6,
     "metadata": {},
     "output_type": "execute_result"
    }
   ],
   "source": [
    "import matplotlib.pyplot as plt\n",
    "\n",
    "integrator.evolution_dict.items()"
   ]
  },
  {
   "cell_type": "code",
   "execution_count": 18,
   "metadata": {},
   "outputs": [
    {
     "data": {
      "text/plain": [
       "array([2, 2, 2, 2, 2, 2, 2, 2, 2, 2, 2, 2, 2, 2, 2, 2, 2, 2, 2, 2, 2, 2,\n",
       "       2, 2, 2, 2, 2, 2, 2])"
      ]
     },
     "execution_count": 18,
     "metadata": {},
     "output_type": "execute_result"
    }
   ],
   "source": [
    "integrator.interpolator.bonds"
   ]
  },
  {
   "cell_type": "code",
   "execution_count": 19,
   "metadata": {},
   "outputs": [
    {
     "name": "stdout",
     "output_type": "stream",
     "text": [
      "Initialization done after time: 0.11617398262023926 seconds and 1 tries.\n",
      "Sweep 1\n",
      "Sweep 2\n",
      "Sweep 3\n",
      "Sweep 4\n",
      "Sweep 5\n",
      "Sweep 6\n",
      "Sweep 7\n",
      "Sweep 8\n",
      "Sweep 9\n",
      "Sweep 10\n"
     ]
    },
    {
     "data": {
      "text/plain": [
       "0.9999999999999588"
      ]
     },
     "execution_count": 19,
     "metadata": {},
     "output_type": "execute_result"
    }
   ],
   "source": [
    "integrator = ttrc_integrator(\n",
    "    func=test_function2,\n",
    "    num_variables=10,\n",
    "    intervals=np.array([[0, np.pi] for _ in range(10)]),\n",
    "    points_per_variable=50,\n",
    "    sweeps=10,\n",
    "    initial_bond_guess=5,\n",
    "    max_bond=20,\n",
    "    quadrature=\"Gauss\",\n",
    ")\n",
    "integrator.integrate()"
   ]
  },
  {
   "cell_type": "code",
   "execution_count": 20,
   "metadata": {},
   "outputs": [
    {
     "data": {
      "text/plain": [
       "array([1, 1, 1, 1, 1, 1, 1, 1, 1])"
      ]
     },
     "execution_count": 20,
     "metadata": {},
     "output_type": "execute_result"
    }
   ],
   "source": [
    "integrator.interpolator.bonds"
   ]
  },
  {
   "cell_type": "code",
   "execution_count": 3,
   "metadata": {},
   "outputs": [
    {
     "name": "stdout",
     "output_type": "stream",
     "text": [
      "Initialization done after time: 0.009338855743408203 seconds and 1 tries.\n",
      "Sweep 1\n",
      "Sweep 2\n",
      "Sweep 3\n",
      "Sweep 4\n",
      "Sweep 5\n",
      "Sweep 6\n",
      "Sweep 7\n",
      "Sweep 8\n"
     ]
    },
    {
     "data": {
      "text/plain": [
       "-6.428747544568117e+111"
      ]
     },
     "execution_count": 3,
     "metadata": {},
     "output_type": "execute_result"
    }
   ],
   "source": [
    "integrator3 = ttrc_integrator(\n",
    "    func=gaussian,\n",
    "    num_variables=10,\n",
    "    intervals=np.array([[-5, 5] for _ in range(10)]),\n",
    "    points_per_variable=10,\n",
    "    sweeps=8,\n",
    "    initial_bond_guess=3,\n",
    "    max_bond=10,\n",
    "    quadrature=\"Trapezoidal\",\n",
    ")\n",
    "integrator3.integrate()"
   ]
  },
  {
   "cell_type": "code",
   "execution_count": 7,
   "metadata": {},
   "outputs": [
    {
     "name": "stdout",
     "output_type": "stream",
     "text": [
      "(1, 1)\n",
      "(4, 1)\n",
      "(7, 2)\n",
      "(10, 3)\n",
      "(10, 4)\n",
      "(10, 5)\n",
      "(10, 6)\n",
      "(10, 7)\n",
      "(10, 8)\n",
      "(10, 9)\n",
      "(9, 10)\n",
      "(10, 11)\n",
      "(10, 12)\n",
      "(10, 13)\n",
      "(10, 14)\n",
      "(10, 15)\n",
      "(9, 16)\n",
      "(8, 17)\n",
      "(7, 18)\n",
      "(4, 19)\n"
     ]
    }
   ],
   "source": [
    "for i in integrator3.interpolator.i:\n",
    "    print(i.shape)"
   ]
  },
  {
   "cell_type": "code",
   "execution_count": 22,
   "metadata": {},
   "outputs": [
    {
     "data": {
      "text/plain": [
       "95895600.61550897"
      ]
     },
     "execution_count": 22,
     "metadata": {},
     "output_type": "execute_result"
    }
   ],
   "source": [
    "(2 * np.pi) ** 10"
   ]
  },
  {
   "cell_type": "code",
   "execution_count": 55,
   "metadata": {},
   "outputs": [
    {
     "name": "stdout",
     "output_type": "stream",
     "text": [
      "Initialization done after time: 0.001094818115234375 seconds and 1 tries.\n",
      "Sweep 1\n",
      "Sweep 2\n"
     ]
    },
    {
     "data": {
      "text/plain": [
       "3.599409410753227e-07"
      ]
     },
     "execution_count": 55,
     "metadata": {},
     "output_type": "execute_result"
    }
   ],
   "source": [
    "# In the presence of singularities, if pivot_finder_tol is too high, the integrator will select very similar\n",
    "# points next to the singularity, resulting in singular matrices and a failed integration.\n",
    "\n",
    "integrator2 = tracked_greedycross_integrator(\n",
    "    func=test_function,\n",
    "    num_variables=30,\n",
    "    intervals=np.array([[0, 1] for _ in range(30)]),\n",
    "    points_per_variable=20,\n",
    "    sweeps=10,\n",
    "    max_bond=10,\n",
    "    quadrature=\"Gauss\",\n",
    "    pivot_finder_tol=1e-6,\n",
    ")\n",
    "\n",
    "integrator2.integrate()"
   ]
  },
  {
   "cell_type": "code",
   "execution_count": 37,
   "metadata": {},
   "outputs": [
    {
     "name": "stdout",
     "output_type": "stream",
     "text": [
      "[[1.]]\n",
      "[[0.8731659532300754]\n",
      " [0.0034357004074525577]\n",
      " [0.46173673943325133]\n",
      " [0.9965642995925474]]\n",
      "[[0.8731659532300754 0.1268340467699246]\n",
      " [0.0034357004074525577 0.0034357004074525577]\n",
      " [0.8731659532300754 0.9965642995925474]\n",
      " [0.8731659532300754 0.6138929255708225]]\n",
      "[[0.8731659532300754 0.1268340467699246 0.3131469556422902]\n",
      " [0.0034357004074525577 0.0034357004074525577 0.0034357004074525577]\n",
      " [0.0034357004074525577 0.0034357004074525577 0.6868530443577098]\n",
      " [0.0034357004074525577 0.0034357004074525577 0.38610707442917747]\n",
      " [0.8731659532300754 0.9965642995925474 0.9561172141256629]]\n",
      "[[0.8731659532300754 0.1268340467699246 0.3131469556422902\n",
      "  0.8731659532300754]\n",
      " [0.0034357004074525577 0.0034357004074525577 0.0034357004074525577\n",
      "  0.0034357004074525577]\n",
      " [0.8731659532300754 0.1268340467699246 0.3131469556422902\n",
      "  0.3131469556422902]\n",
      " [0.0034357004074525577 0.0034357004074525577 0.6868530443577098\n",
      "  0.1268340467699246]\n",
      " [0.0034357004074525577 0.0034357004074525577 0.0034357004074525577\n",
      "  0.38610707442917747]]\n",
      "[[0.8731659532300754 0.1268340467699246 0.3131469556422902\n",
      "  0.8731659532300754 0.8180268403632576]\n",
      " [0.0034357004074525577 0.0034357004074525577 0.0034357004074525577\n",
      "  0.0034357004074525577 0.6138929255708225]\n",
      " [0.0034357004074525577 0.0034357004074525577 0.0034357004074525577\n",
      "  0.0034357004074525577 0.38610707442917747]\n",
      " [0.0034357004074525577 0.0034357004074525577 0.6868530443577098\n",
      "  0.1268340467699246 0.3131469556422902]\n",
      " [0.0034357004074525577 0.0034357004074525577 0.6868530443577098\n",
      "  0.1268340467699246 0.8731659532300754]]\n",
      "[[0.8731659532300754 0.1268340467699246 0.3131469556422902\n",
      "  0.8731659532300754 0.8180268403632576 0.6868530443577098]\n",
      " [0.0034357004074525577 0.0034357004074525577 0.0034357004074525577\n",
      "  0.0034357004074525577 0.6138929255708225 0.6868530443577098]\n",
      " [0.0034357004074525577 0.0034357004074525577 0.0034357004074525577\n",
      "  0.0034357004074525577 0.6138929255708225 0.3131469556422902]\n",
      " [0.0034357004074525577 0.0034357004074525577 0.6868530443577098\n",
      "  0.1268340467699246 0.3131469556422902 0.8731659532300754]\n",
      " [0.0034357004074525577 0.0034357004074525577 0.6868530443577098\n",
      "  0.1268340467699246 0.3131469556422902 0.9561172141256629]]\n",
      "[[0.8731659532300754 0.1268340467699246 0.3131469556422902\n",
      "  0.8731659532300754 0.8180268403632576 0.6868530443577098\n",
      "  0.9965642995925474]\n",
      " [0.0034357004074525577 0.0034357004074525577 0.0034357004074525577\n",
      "  0.0034357004074525577 0.6138929255708225 0.6868530443577098\n",
      "  0.9561172141256629]\n",
      " [0.0034357004074525577 0.0034357004074525577 0.0034357004074525577\n",
      "  0.0034357004074525577 0.6138929255708225 0.6868530443577098\n",
      "  0.7554335009754136]\n",
      " [0.0034357004074525577 0.0034357004074525577 0.0034357004074525577\n",
      "  0.0034357004074525577 0.6138929255708225 0.3131469556422902\n",
      "  0.0034357004074525577]\n",
      " [0.0034357004074525577 0.0034357004074525577 0.6868530443577098\n",
      "  0.1268340467699246 0.3131469556422902 0.8731659532300754\n",
      "  0.7554335009754136]]\n",
      "[[0.8731659532300754 0.1268340467699246 0.3131469556422902\n",
      "  0.8731659532300754 0.8180268403632576 0.6868530443577098\n",
      "  0.9965642995925474 0.8180268403632576]\n",
      " [0.0034357004074525577 0.0034357004074525577 0.0034357004074525577\n",
      "  0.0034357004074525577 0.6138929255708225 0.6868530443577098\n",
      "  0.9561172141256629 0.8180268403632576]\n",
      " [0.0034357004074525577 0.0034357004074525577 0.0034357004074525577\n",
      "  0.0034357004074525577 0.6138929255708225 0.6868530443577098\n",
      "  0.9561172141256629 0.46173673943325133]\n",
      " [0.0034357004074525577 0.0034357004074525577 0.0034357004074525577\n",
      "  0.0034357004074525577 0.6138929255708225 0.3131469556422902\n",
      "  0.0034357004074525577 0.0034357004074525577]\n",
      " [0.0034357004074525577 0.0034357004074525577 0.0034357004074525577\n",
      "  0.0034357004074525577 0.6138929255708225 0.3131469556422902\n",
      "  0.0034357004074525577 0.9965642995925474]]\n",
      "[[0.8731659532300754 0.1268340467699246 0.3131469556422902\n",
      "  0.8731659532300754 0.8180268403632576 0.6868530443577098\n",
      "  0.9965642995925474 0.8180268403632576 0.0034357004074525577]\n",
      " [0.0034357004074525577 0.0034357004074525577 0.0034357004074525577\n",
      "  0.0034357004074525577 0.6138929255708225 0.6868530443577098\n",
      "  0.9561172141256629 0.8180268403632576 0.08044151408889061]\n",
      " [0.0034357004074525577 0.0034357004074525577 0.0034357004074525577\n",
      "  0.0034357004074525577 0.6138929255708225 0.3131469556422902\n",
      "  0.0034357004074525577 0.0034357004074525577 0.8180268403632576]\n",
      " [0.0034357004074525577 0.0034357004074525577 0.0034357004074525577\n",
      "  0.0034357004074525577 0.6138929255708225 0.3131469556422902\n",
      "  0.0034357004074525577 0.0034357004074525577 0.38610707442917747]]\n",
      "[[0.87316595 0.12683405 0.31314696 0.87316595 0.81802684 0.68685304\n",
      "  0.9965643  0.81802684 0.0034357  0.87316595]]\n"
     ]
    }
   ],
   "source": [
    "for i in integrator2.i:\n",
    "    print(i)"
   ]
  },
  {
   "cell_type": "code",
   "execution_count": 26,
   "metadata": {},
   "outputs": [
    {
     "data": {
      "text/plain": [
       "array([1, 1, 1, 1, 1, 1, 1, 1, 1, 1, 1, 1, 1, 1, 1, 1, 1, 1, 1, 1, 1, 1,\n",
       "       1, 1, 1, 1, 1, 1, 1])"
      ]
     },
     "execution_count": 26,
     "metadata": {},
     "output_type": "execute_result"
    }
   ],
   "source": [
    "integrator2.interpolator.bonds"
   ]
  },
  {
   "cell_type": "code",
   "execution_count": 27,
   "metadata": {},
   "outputs": [
    {
     "data": {
      "text/plain": [
       "{400: 0.1734877830521058,\n",
       " 1200: 0.16366103504160545,\n",
       " 2000: 0.1502779675391693,\n",
       " 2800: 0.20616162438197405,\n",
       " 3600: 0.15107876045022756,\n",
       " 4400: 0.06102370845480326,\n",
       " 5200: 0.03317247770594936,\n",
       " 6000: 0.01233820553274095,\n",
       " 6800: 0.028520753223377028,\n",
       " 7600: 0.028520753223377028,\n",
       " 9200: 0.028916388754062355,\n",
       " 11600: 0.030574417290189334,\n",
       " 14000: -2089308950789.7756,\n",
       " 16400: -1690964813782.1316,\n",
       " 18800: -1074114635654.792,\n",
       " 21200: -1014927317883.8499,\n",
       " 23600: 1.076008431741586e+26,\n",
       " 24800: 4.418670534814469e+25,\n",
       " 26000: 7.2748132362465785e+25,\n",
       " 30800: 3.4106724547389498e+25,\n",
       " 35600: -4.196348868854867e+25,\n",
       " 40400: -5.1917328132091846e+26,\n",
       " 45200: -9.862792712921169e+28,\n",
       " 50000: -2.534283706344681e+26,\n",
       " 54800: -1.814975499944701e+26,\n",
       " 58000: -1.9507369798631683e+26,\n",
       " 59600: -1.9129354439620253e+26,\n",
       " 61200: -3.309052987110329e+26,\n",
       " 67600: -1.1446561015462829e+25,\n",
       " 75600: -4.427159086566745e+38,\n",
       " 83600: -1.74994007394719e+39,\n",
       " 91600: 2.8809087918151395e+39,\n",
       " 99600: 2.919986106975414e+37,\n",
       " 107600: 1.1051626058932705e+38}"
      ]
     },
     "execution_count": 27,
     "metadata": {},
     "output_type": "execute_result"
    }
   ],
   "source": [
    "integrator2.evolution_dict"
   ]
  },
  {
   "cell_type": "code",
   "execution_count": 23,
   "metadata": {},
   "outputs": [
    {
     "name": "stdout",
     "output_type": "stream",
     "text": [
      "Initialization done after time: 0.0011169910430908203 seconds and 1 tries.\n",
      "Sweep 1\n"
     ]
    },
    {
     "data": {
      "text/plain": [
       "0.9999999999999014"
      ]
     },
     "execution_count": 23,
     "metadata": {},
     "output_type": "execute_result"
    }
   ],
   "source": [
    "integrator2 = greedy_cross_integrator(\n",
    "    func=test_function2,\n",
    "    num_variables=30,\n",
    "    intervals=np.array([[0, np.pi] for _ in range(30)]),\n",
    "    points_per_variable=30,\n",
    "    sweeps=10,\n",
    "    max_bond=10,\n",
    "    quadrature=\"Gauss\",\n",
    "    pivot_finder_tol=1e-12,\n",
    ")\n",
    "\n",
    "integrator2.integrate()"
   ]
  },
  {
   "cell_type": "code",
   "execution_count": 24,
   "metadata": {},
   "outputs": [
    {
     "data": {
      "text/plain": [
       "array([1, 1, 1, 1, 1, 1, 1, 1, 1, 1, 1, 1, 1, 1, 1, 1, 1, 1, 1, 1, 1, 1,\n",
       "       1, 1, 1, 1, 1, 1, 1])"
      ]
     },
     "execution_count": 24,
     "metadata": {},
     "output_type": "execute_result"
    }
   ],
   "source": [
    "integrator2.interpolator.bonds"
   ]
  },
  {
   "cell_type": "code",
   "execution_count": null,
   "metadata": {},
   "outputs": [],
   "source": []
  }
 ],
 "metadata": {
  "kernelspec": {
   "display_name": "tfg",
   "language": "python",
   "name": "python3"
  },
  "language_info": {
   "codemirror_mode": {
    "name": "ipython",
    "version": 3
   },
   "file_extension": ".py",
   "mimetype": "text/x-python",
   "name": "python",
   "nbconvert_exporter": "python",
   "pygments_lexer": "ipython3",
   "version": "3.12.2"
  }
 },
 "nbformat": 4,
 "nbformat_minor": 2
}
