{
 "cells": [
  {
   "cell_type": "code",
   "execution_count": 1,
   "metadata": {},
   "outputs": [],
   "source": [
    "import sys\n",
    "\n",
    "sys.path.append(\"..\")"
   ]
  },
  {
   "cell_type": "code",
   "execution_count": 2,
   "metadata": {},
   "outputs": [],
   "source": [
    "from src.integrators import ttrc_integrator, greedy_cross_integrator\n",
    "import matplotlib.pyplot as plt\n",
    "import numpy as np"
   ]
  },
  {
   "cell_type": "code",
   "execution_count": 16,
   "metadata": {},
   "outputs": [],
   "source": [
    "def test_function(x: np.ndarray) -> np.ndarray:\n",
    "    return np.log(np.prod(x))\n",
    "\n",
    "\n",
    "def test_function2(x: np.ndarray) -> np.ndarray:\n",
    "    return np.prod(np.sin(x) / 2)"
   ]
  },
  {
   "cell_type": "code",
   "execution_count": 17,
   "metadata": {},
   "outputs": [
    {
     "name": "stdout",
     "output_type": "stream",
     "text": [
      "Initialization done after time: 0.10164618492126465 seconds and 1 tries.\n",
      "Sweep 1\n",
      "Sweep 2\n",
      "Sweep 3\n",
      "Sweep 4\n",
      "Sweep 5\n",
      "Sweep 6\n",
      "Sweep 7\n",
      "Sweep 8\n",
      "Sweep 9\n",
      "Sweep 10\n"
     ]
    },
    {
     "data": {
      "text/plain": [
       "-29.95490857500693"
      ]
     },
     "execution_count": 17,
     "metadata": {},
     "output_type": "execute_result"
    }
   ],
   "source": [
    "integrator = ttrc_integrator(\n",
    "    func=test_function,\n",
    "    num_variables=30,\n",
    "    intervals=np.array([[0, 1] for _ in range(50)]),\n",
    "    points_per_variable=20,\n",
    "    sweeps=10,\n",
    "    initial_bond_guess=5,\n",
    "    max_bond=10,\n",
    "    quadrature=\"Gauss\",\n",
    ")\n",
    "integrator.integrate()"
   ]
  },
  {
   "cell_type": "code",
   "execution_count": 18,
   "metadata": {},
   "outputs": [
    {
     "data": {
      "text/plain": [
       "array([2, 2, 2, 2, 2, 2, 2, 2, 2, 2, 2, 2, 2, 2, 2, 2, 2, 2, 2, 2, 2, 2,\n",
       "       2, 2, 2, 2, 2, 2, 2])"
      ]
     },
     "execution_count": 18,
     "metadata": {},
     "output_type": "execute_result"
    }
   ],
   "source": [
    "integrator.interpolator.bonds"
   ]
  },
  {
   "cell_type": "code",
   "execution_count": 19,
   "metadata": {},
   "outputs": [
    {
     "name": "stdout",
     "output_type": "stream",
     "text": [
      "Initialization done after time: 0.11617398262023926 seconds and 1 tries.\n",
      "Sweep 1\n",
      "Sweep 2\n",
      "Sweep 3\n",
      "Sweep 4\n",
      "Sweep 5\n",
      "Sweep 6\n",
      "Sweep 7\n",
      "Sweep 8\n",
      "Sweep 9\n",
      "Sweep 10\n"
     ]
    },
    {
     "data": {
      "text/plain": [
       "0.9999999999999588"
      ]
     },
     "execution_count": 19,
     "metadata": {},
     "output_type": "execute_result"
    }
   ],
   "source": [
    "integrator = ttrc_integrator(\n",
    "    func=test_function2,\n",
    "    num_variables=10,\n",
    "    intervals=np.array([[0, np.pi] for _ in range(10)]),\n",
    "    points_per_variable=50,\n",
    "    sweeps=10,\n",
    "    initial_bond_guess=5,\n",
    "    max_bond=20,\n",
    "    quadrature=\"Gauss\",\n",
    ")\n",
    "integrator.integrate()"
   ]
  },
  {
   "cell_type": "code",
   "execution_count": 20,
   "metadata": {},
   "outputs": [
    {
     "data": {
      "text/plain": [
       "array([1, 1, 1, 1, 1, 1, 1, 1, 1])"
      ]
     },
     "execution_count": 20,
     "metadata": {},
     "output_type": "execute_result"
    }
   ],
   "source": [
    "integrator.interpolator.bonds"
   ]
  },
  {
   "cell_type": "code",
   "execution_count": 21,
   "metadata": {},
   "outputs": [
    {
     "name": "stdout",
     "output_type": "stream",
     "text": [
      "Initialization done after time: 0.002011537551879883 seconds and 1 tries.\n",
      "Sweep 1\n",
      "Sweep 2\n"
     ]
    },
    {
     "data": {
      "text/plain": [
       "-99.96150267868836"
      ]
     },
     "execution_count": 21,
     "metadata": {},
     "output_type": "execute_result"
    }
   ],
   "source": [
    "# In the presence of singularities, if pivot_finder_tol is too high, the integrator will select very similar\n",
    "# points next to the singularity, resulting in singular matrices and a failed integration.\n",
    "\n",
    "integrator2 = greedy_cross_integrator(\n",
    "    func=test_function,\n",
    "    num_variables=100,\n",
    "    intervals=np.array([[0, 1] for _ in range(100)]),\n",
    "    points_per_variable=40,\n",
    "    sweeps=10,\n",
    "    max_bond=10,\n",
    "    quadrature=\"Gauss\",\n",
    "    pivot_finder_tol=1e-10,\n",
    ")\n",
    "\n",
    "integrator2.integrate()"
   ]
  },
  {
   "cell_type": "code",
   "execution_count": 22,
   "metadata": {},
   "outputs": [
    {
     "data": {
      "text/plain": [
       "array([2, 2, 2, 2, 2, 2, 2, 2, 2, 2, 2, 2, 2, 2, 2, 2, 2, 2, 2, 2, 2, 2,\n",
       "       2, 2, 2, 2, 2, 2, 2, 2, 2, 2, 2, 2, 2, 2, 2, 2, 2, 2, 2, 2, 2, 2,\n",
       "       2, 2, 2, 2, 2, 2, 2, 2, 2, 2, 2, 2, 2, 2, 2, 2, 2, 2, 2, 2, 2, 2,\n",
       "       2, 2, 2, 2, 2, 2, 2, 2, 2, 2, 2, 2, 2, 2, 2, 2, 2, 2, 2, 2, 2, 2,\n",
       "       2, 2, 2, 2, 2, 2, 2, 2, 2, 2, 2])"
      ]
     },
     "execution_count": 22,
     "metadata": {},
     "output_type": "execute_result"
    }
   ],
   "source": [
    "integrator2.interpolator.bonds"
   ]
  },
  {
   "cell_type": "code",
   "execution_count": 23,
   "metadata": {},
   "outputs": [
    {
     "name": "stdout",
     "output_type": "stream",
     "text": [
      "Initialization done after time: 0.0011169910430908203 seconds and 1 tries.\n",
      "Sweep 1\n"
     ]
    },
    {
     "data": {
      "text/plain": [
       "0.9999999999999014"
      ]
     },
     "execution_count": 23,
     "metadata": {},
     "output_type": "execute_result"
    }
   ],
   "source": [
    "integrator2 = greedy_cross_integrator(\n",
    "    func=test_function2,\n",
    "    num_variables=30,\n",
    "    intervals=np.array([[0, np.pi] for _ in range(30)]),\n",
    "    points_per_variable=30,\n",
    "    sweeps=10,\n",
    "    max_bond=10,\n",
    "    quadrature=\"Gauss\",\n",
    "    pivot_finder_tol=1e-12,\n",
    ")\n",
    "\n",
    "integrator2.integrate()"
   ]
  },
  {
   "cell_type": "code",
   "execution_count": 24,
   "metadata": {},
   "outputs": [
    {
     "data": {
      "text/plain": [
       "array([1, 1, 1, 1, 1, 1, 1, 1, 1, 1, 1, 1, 1, 1, 1, 1, 1, 1, 1, 1, 1, 1,\n",
       "       1, 1, 1, 1, 1, 1, 1])"
      ]
     },
     "execution_count": 24,
     "metadata": {},
     "output_type": "execute_result"
    }
   ],
   "source": [
    "integrator2.interpolator.bonds"
   ]
  }
 ],
 "metadata": {
  "kernelspec": {
   "display_name": "tfg",
   "language": "python",
   "name": "python3"
  },
  "language_info": {
   "codemirror_mode": {
    "name": "ipython",
    "version": 3
   },
   "file_extension": ".py",
   "mimetype": "text/x-python",
   "name": "python",
   "nbconvert_exporter": "python",
   "pygments_lexer": "ipython3",
   "version": "3.12.2"
  }
 },
 "nbformat": 4,
 "nbformat_minor": 2
}
